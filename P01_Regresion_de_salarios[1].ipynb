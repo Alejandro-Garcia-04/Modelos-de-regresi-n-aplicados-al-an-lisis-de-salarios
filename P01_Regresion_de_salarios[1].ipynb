{
 "cells": [
  {
   "cell_type": "markdown",
   "id": "cedee52f",
   "metadata": {},
   "source": [
    "# Proyecto 1  - Modelos de regresión aplicados al análisis de salarios\n",
    "\n",
    "29/09/2025\n",
    "\n",
    "Profesor: Gabriel Alejandro Morales Ruiz\n",
    "\n",
    "Integrantes:\n",
    "- Pablo Josué Panécatl García\n",
    "- Jesús Alejandro García García\n",
    "- Paola Andrea Figueroa Álvarez\n"
   ]
  },
  {
   "cell_type": "markdown",
   "id": "cef59293",
   "metadata": {},
   "source": [
    "## 1. Objetivos\n",
    "\n",
    "### Generales\n",
    "Analizar el conjunto de datos de salarios con el fin de construir y evaluar modelos de regresión (lineal, polinomial y con penalización) que permitan explicar y predecir el nivel salarial de los empleados a partir de factores individuales y laborales, mostrando tanto los fundamentos teóricos como la aplicación práctica del modelado estadístico.\n",
    "\n",
    "### Específicos\n",
    "- Explorar y limpiar el dataset para garantizar la calidad de los datos (tratamiento de nulos, duplicados y escalamiento de categorías).\n",
    "- Identificar las variables más relevantes que influyen en el salario, como género, nivel educativo, puesto de trabajo y experiencia.\n",
    "- Construir modelos de regresión lineal y polinomial para evaluar su capacidad explicativa sobre el salario.\n",
    "- Analizar la interacción de factores y su efecto en la variable dependiente.\n",
    "- Aplicar técnicas de penalización (Ridge, Lasso y ElasticNet) para mejorar la generalización del modelo y comparar su desempeño.\n",
    "- Interpretar los resultados de manera estadística y práctica, vinculándolos con la estructura del salario y en base a qué se da."
   ]
  },
  {
   "cell_type": "markdown",
   "id": "5b30a8c3",
   "metadata": {},
   "source": [
    "## 2. Marco Teórico\n",
    "\n",
    "### - Regresión lineal\n",
    "Es una combinación lineal de factores independientes, es decir, que ninguno de los vectores puede expresarse como una combinación lineal de los demás, para poder aproximar. Su principal objetivo es buscar explicar la relación entre una variable dependiente y una o varias variables dependientes. En su ecuación original y= B0+B1X1+ BnXn + e, las betas son las incógnitas y la e representa el error, cuya suma no indica calidad, por lo que para esto se utiliza un coeficiente de determinación para, de esta manera, comparar modelos en base a que tanto de la varianza de salida corresponde a la varianza de entrada. \n",
    "\n",
    "### - Regresión polinomial\n",
    "Extiende la regresión lineal al incluir potencias de las variables predictoras, permitiendo capturar relaciones no lineales. Para este caso, podríamos usar un polinomio de grado dos, cuya ecuación sería como la siguiente: y= BO+ B1X + B2X^2, donde el término X2^2 permite capturar curvaturas en la tendencia de los datos. Este tipo de regresión es útil cuando la relación entre las variables no sigue una línea recta, sino que presenta comportamientos con mayor posibilidad de fluctuación, es decir,  incrementos o decrecimientos acelerados. Es importante mantener un buen balance de factores, ya que a veces, a medida que el modelo se vuelve más complejo, corre el riesgo de sobreajustarse (overfitting), es decir, ajustarse demasiado a los datos de entrenamiento y perder capacidad de generalización. \n",
    "\n",
    "### - Interacción de factores\n",
    "Las interacciones de factores en un modelo de regresión significa que el efecto de una variable (como la edad) sobre otra variable (como el salario) cambia dependiendo del valor de una tercera variable (como el puesto de trabajo). \"Esto permite entender que, según el contexto que aporte la segunda variable, la relación entre la primera variable y la respuesta puede fortalecerse, debilitarse o incluso invertirse\" (Lewinson, 2023).La interacción señala que los efectos no son fijos, sino que se ajustan a diferentes escenarios según cómo se combinan las variables involucradas, permitiendo modelar efectos combinados de dos o más variables. \n",
    "### - Regularización\n",
    "Conjunto de técnicas utilizadas para prevenir el sobreajuste (overfitting) de un modelo al conjunto de entrenamiento, penalizando la magnitud de los coeficientes. Es decir que se obliga al modelo para quitarle peso a una variable y tomar otras en consideración, permitiéndo que el modelo sea más simple, haga una buena extrapolación y, por lo tanto, generalice mejor. Para fines de este proyecto, no estaremos enfocando en tres tipos: \n",
    "- Ridge (L2): Añade la suma de los cuadrados de los coeficientes a la función de costo, haciendo que la magnitud de los coeficientes disminuya pero sin llevarlos a 0.\n",
    "- Lasso (L1): Añade la suma de los valores absolutos de los coeficientes a la función de costo. A diferencia de Ridge, se pueden llevar los coeficientes menos importantes a 0, de manera que esta realiza una selección de características para ver lo que es más significativo en el modelo.\n",
    "- ElasticNet: Combina las penalizaciones Ridge y Lasso, ofreciendo un balance entre la reducción de coeficientes y la selección de características.\n",
    "\n",
    "### - Tema elegido:\n",
    "Datos de salario en función de atributos como la edad, los años de experiencia, el nivel de educación y la categoría del puesto de trabajo."
   ]
  },
  {
   "cell_type": "markdown",
   "id": "fab88e2a",
   "metadata": {},
   "source": [
    "## 3. Análisis de Dataset\n",
    "\n"
   ]
  },
  {
   "cell_type": "markdown",
   "id": "c9deb9f0",
   "metadata": {},
   "source": [
    "### ¿De dónde viene?\n",
    "Se obtuvo de Kaggle, una página de datasets. \n",
    "### ¿Qué contiene?\n",
    "Incluye variables como salario anual, género, nivel educativo, título del puesto de trabajo y experiencia laboral, entre otras.\n",
    "### ¿Qué información dan las muestras?\n",
    "Cada fila representa a un empleado con sus características individuales y laborales, junto con el salario recibido.\n",
    "### ¿Qué se quiere analizar?\n",
    "El objetivo es identificar qué factores explican mejor el salario y si es posible predecirlo con base en las características observadas.\n",
    "### ¿Qué variables se tienen que transformar para poder usarse en un modelo de regresión?\n",
    "Transfromamos todas las variables que son objetos, conviertiéndolas en dummies, como el caso de las siguientes variables: género, nivel de educación y título del trabajo. P\n",
    "### ¿Qué transformaciones se van a usar?\n",
    "- Limpieza de categorías duplicadas o inconsistentes (ej. “Master's” vs. “Master's Degree”).\n",
    "- Limpieza de nulos\n",
    "- Creación de variables dummies para género, educación y categorías simplificadas de puesto de trabajo.\n",
    "- Para el título de trabajo, en lugar de tener 193 nombres, decidimos categorizarlas en base a su funionalidad y herramientas que se usan; al final nos quedamos con 10 variables. \n",
    "### ¿Qué resultado se podría encontrar al realizar una regresión?\n",
    "Se espera identificar qué factores tienen mayor peso en la explicación de los salarios, evaluar si existen interacciones relevantes y construir modelos predictivos con buen ajuste y generalización."
   ]
  },
  {
   "cell_type": "markdown",
   "id": "e7be43d9",
   "metadata": {},
   "source": [
    "## 4. Modelos Propuestos\n",
    "Se propone evaluar tres modelos de regresión polinomial, aumentando progresivamente el grado, para capturar la posible complejidad lineal y no lineal en la relación entre las variables dependientes y el salario, comparando los resultados con y sin regularización:\n",
    "- Modelo 1: Regresión Lineal Múltiple\n",
    "- Modelo 2: Regresión Polinomial de Grado 2, incluyendo términos al cuadrado.\n",
    "- Modelo 3: Regresión Polinomial de Grado 3, incluyendo términos al cubo. \n",
    "\n",
    "Decidimos ir escalando el grado para explorar un ajuste más complejo, a pesar del riesgo de sobreajuste y, así, ver qué modelo se ajusta mejor. Para asegurarnos de que el modelo funcione bien con datos nuevos usaremos K-Fold Cross-Validation con K=5, donde se estarán usando 4 grupos para entrenar el modelo, mientras que el restante es para ver qué tan bien funciona. Repetiremos esto 5 veces, cada vez usando un grupo diferente para la prueba. Así, tendremos 5 evaluaciones del modelo y podremos ver qué tan estable y confiable es su rendimiento en diferentes conjuntos de datos.\n",
    "Adicionalmente, usaremos Ridge, Lasso y ElasticNet para observar la complejidad del modelo y cuál sería la mejor para predecir.\n"
   ]
  },
  {
   "cell_type": "markdown",
   "id": "fb99e67a",
   "metadata": {},
   "source": [
    "## 5. Pipeline"
   ]
  },
  {
   "cell_type": "markdown",
   "id": "93dedd11",
   "metadata": {},
   "source": [
    "### 1. Análisis Exploratorio de Datos"
   ]
  },
  {
   "cell_type": "code",
   "execution_count": 133,
   "id": "5e81cbe3",
   "metadata": {},
   "outputs": [],
   "source": [
    "import pandas as pd\n",
    "import numpy as np\n",
    "import matplotlib.pyplot as plt\n",
    "import statsmodels.api as sm\n",
    "import warnings\n",
    "from scipy import stats \n",
    "from sklearn.metrics import mean_squared_error, r2_score, mean_absolute_percentage_error\n",
    "from sklearn.linear_model import Ridge, ElasticNet, Lasso, LinearRegression\n",
    "from sklearn.model_selection import LeaveOneOut, train_test_split, KFold\n",
    "from sklearn.preprocessing import StandardScaler, PolynomialFeatures\n"
   ]
  },
  {
   "cell_type": "code",
   "execution_count": 134,
   "id": "91886fcf",
   "metadata": {},
   "outputs": [
    {
     "name": "stdout",
     "output_type": "stream",
     "text": [
      "<class 'pandas.core.frame.DataFrame'>\n",
      "RangeIndex: 6704 entries, 0 to 6703\n",
      "Data columns (total 6 columns):\n",
      " #   Column               Non-Null Count  Dtype  \n",
      "---  ------               --------------  -----  \n",
      " 0   Age                  6702 non-null   float64\n",
      " 1   Gender               6702 non-null   object \n",
      " 2   Education Level      6701 non-null   object \n",
      " 3   Job Title            6702 non-null   object \n",
      " 4   Years of Experience  6701 non-null   float64\n",
      " 5   Salary               6699 non-null   float64\n",
      "dtypes: float64(3), object(3)\n",
      "memory usage: 314.4+ KB\n"
     ]
    }
   ],
   "source": [
    "df = pd.read_csv(\"Salary_Data_2pao.csv\")\n",
    "df.info()"
   ]
  },
  {
   "cell_type": "markdown",
   "id": "4591ae91",
   "metadata": {},
   "source": [
    "Es bueno saber que cada columna tiene el tipo correcto de datos"
   ]
  },
  {
   "cell_type": "code",
   "execution_count": 135,
   "id": "66d18716",
   "metadata": {},
   "outputs": [
    {
     "data": {
      "text/plain": [
       "Age                    0.000298\n",
       "Gender                 0.000298\n",
       "Education Level        0.000447\n",
       "Job Title              0.000298\n",
       "Years of Experience    0.000447\n",
       "Salary                 0.000746\n",
       "dtype: float64"
      ]
     },
     "execution_count": 135,
     "metadata": {},
     "output_type": "execute_result"
    }
   ],
   "source": [
    "df.isnull().sum()/len(df)"
   ]
  },
  {
   "cell_type": "markdown",
   "id": "5d1a5653",
   "metadata": {},
   "source": [
    "Hay unos cuantos nulos"
   ]
  },
  {
   "cell_type": "code",
   "execution_count": 136,
   "id": "be70a3f9",
   "metadata": {},
   "outputs": [
    {
     "data": {
      "text/plain": [
       "4912"
      ]
     },
     "execution_count": 136,
     "metadata": {},
     "output_type": "execute_result"
    }
   ],
   "source": [
    "df.duplicated().sum()"
   ]
  },
  {
   "cell_type": "code",
   "execution_count": 137,
   "id": "00c6ddff",
   "metadata": {},
   "outputs": [
    {
     "data": {
      "text/html": [
       "<div>\n",
       "<style scoped>\n",
       "    .dataframe tbody tr th:only-of-type {\n",
       "        vertical-align: middle;\n",
       "    }\n",
       "\n",
       "    .dataframe tbody tr th {\n",
       "        vertical-align: top;\n",
       "    }\n",
       "\n",
       "    .dataframe thead th {\n",
       "        text-align: right;\n",
       "    }\n",
       "</style>\n",
       "<table border=\"1\" class=\"dataframe\">\n",
       "  <thead>\n",
       "    <tr style=\"text-align: right;\">\n",
       "      <th></th>\n",
       "      <th>Age</th>\n",
       "      <th>Years of Experience</th>\n",
       "      <th>Salary</th>\n",
       "    </tr>\n",
       "  </thead>\n",
       "  <tbody>\n",
       "    <tr>\n",
       "      <th>count</th>\n",
       "      <td>6702.000000</td>\n",
       "      <td>6701.000000</td>\n",
       "      <td>6699.000000</td>\n",
       "    </tr>\n",
       "    <tr>\n",
       "      <th>mean</th>\n",
       "      <td>33.620859</td>\n",
       "      <td>8.094687</td>\n",
       "      <td>115326.964771</td>\n",
       "    </tr>\n",
       "    <tr>\n",
       "      <th>std</th>\n",
       "      <td>7.614633</td>\n",
       "      <td>6.059003</td>\n",
       "      <td>52786.183911</td>\n",
       "    </tr>\n",
       "    <tr>\n",
       "      <th>min</th>\n",
       "      <td>21.000000</td>\n",
       "      <td>0.000000</td>\n",
       "      <td>350.000000</td>\n",
       "    </tr>\n",
       "    <tr>\n",
       "      <th>25%</th>\n",
       "      <td>28.000000</td>\n",
       "      <td>3.000000</td>\n",
       "      <td>70000.000000</td>\n",
       "    </tr>\n",
       "    <tr>\n",
       "      <th>50%</th>\n",
       "      <td>32.000000</td>\n",
       "      <td>7.000000</td>\n",
       "      <td>115000.000000</td>\n",
       "    </tr>\n",
       "    <tr>\n",
       "      <th>75%</th>\n",
       "      <td>38.000000</td>\n",
       "      <td>12.000000</td>\n",
       "      <td>160000.000000</td>\n",
       "    </tr>\n",
       "    <tr>\n",
       "      <th>max</th>\n",
       "      <td>62.000000</td>\n",
       "      <td>34.000000</td>\n",
       "      <td>250000.000000</td>\n",
       "    </tr>\n",
       "  </tbody>\n",
       "</table>\n",
       "</div>"
      ],
      "text/plain": [
       "               Age  Years of Experience         Salary\n",
       "count  6702.000000          6701.000000    6699.000000\n",
       "mean     33.620859             8.094687  115326.964771\n",
       "std       7.614633             6.059003   52786.183911\n",
       "min      21.000000             0.000000     350.000000\n",
       "25%      28.000000             3.000000   70000.000000\n",
       "50%      32.000000             7.000000  115000.000000\n",
       "75%      38.000000            12.000000  160000.000000\n",
       "max      62.000000            34.000000  250000.000000"
      ]
     },
     "execution_count": 137,
     "metadata": {},
     "output_type": "execute_result"
    }
   ],
   "source": [
    "df.describe()"
   ]
  },
  {
   "cell_type": "markdown",
   "id": "8693536e",
   "metadata": {},
   "source": [
    "El .describe() ayuda a saber cómo se comportan las variables numéricas"
   ]
  },
  {
   "cell_type": "code",
   "execution_count": 138,
   "id": "30207a5f",
   "metadata": {},
   "outputs": [
    {
     "data": {
      "text/plain": [
       "array(['Male', 'Female', nan, 'Other'], dtype=object)"
      ]
     },
     "execution_count": 138,
     "metadata": {},
     "output_type": "execute_result"
    }
   ],
   "source": [
    "df['Gender'].unique()"
   ]
  },
  {
   "cell_type": "markdown",
   "id": "73f60dbd",
   "metadata": {},
   "source": [
    "Ideal para hacer dummies"
   ]
  },
  {
   "cell_type": "code",
   "execution_count": 139,
   "id": "b5e36271",
   "metadata": {},
   "outputs": [
    {
     "data": {
      "text/plain": [
       "array([\"Bachelor's\", \"Master's\", 'PhD', nan, \"Bachelor's Degree\",\n",
       "       \"Master's Degree\", 'High School', 'phD'], dtype=object)"
      ]
     },
     "execution_count": 139,
     "metadata": {},
     "output_type": "execute_result"
    }
   ],
   "source": [
    "df['Education Level'].unique()"
   ]
  },
  {
   "cell_type": "markdown",
   "id": "456da82a",
   "metadata": {},
   "source": [
    "Es interesante ver que hay \"Master's\" y \"Master's Degree\" y el mismo caso para Bachelor's. Creo que podríamos unirlos"
   ]
  },
  {
   "cell_type": "code",
   "execution_count": 140,
   "id": "70b3c9b1",
   "metadata": {},
   "outputs": [
    {
     "data": {
      "text/plain": [
       "array(['Software Engineer', 'Data Analyst', 'Senior Manager',\n",
       "       'Sales Associate', 'Director', 'Marketing Analyst',\n",
       "       'Product Manager', 'Sales Manager', 'Marketing Coordinator',\n",
       "       'Senior Scientist', 'Software Developer', 'HR Manager',\n",
       "       'Financial Analyst', 'Project Manager', 'Customer Service Rep',\n",
       "       'Operations Manager', 'Marketing Manager', 'Senior Engineer',\n",
       "       'Data Entry Clerk', 'Sales Director', 'Business Analyst',\n",
       "       'VP of Operations', 'IT Support', 'Recruiter', 'Financial Manager',\n",
       "       'Social Media Specialist', 'Software Manager', 'Junior Developer',\n",
       "       'Senior Consultant', 'Product Designer', 'CEO', 'Accountant',\n",
       "       'Data Scientist', 'Marketing Specialist', 'Technical Writer',\n",
       "       'HR Generalist', 'Project Engineer', 'Customer Success Rep',\n",
       "       'Sales Executive', 'UX Designer', 'Operations Director',\n",
       "       'Network Engineer', 'Administrative Assistant',\n",
       "       'Strategy Consultant', 'Copywriter', 'Account Manager',\n",
       "       'Director of Marketing', 'Help Desk Analyst',\n",
       "       'Customer Service Manager', 'Business Intelligence Analyst',\n",
       "       'Event Coordinator', 'VP of Finance', 'Graphic Designer',\n",
       "       'UX Researcher', 'Social Media Manager', 'Director of Operations',\n",
       "       'Senior Data Scientist', 'Junior Accountant',\n",
       "       'Digital Marketing Manager', 'IT Manager',\n",
       "       'Customer Service Representative', 'Business Development Manager',\n",
       "       'Senior Financial Analyst', 'Web Developer', 'Research Director',\n",
       "       'Technical Support Specialist', 'Creative Director',\n",
       "       'Senior Software Engineer', 'Human Resources Director',\n",
       "       'Content Marketing Manager', 'Technical Recruiter',\n",
       "       'Sales Representative', 'Chief Technology Officer',\n",
       "       'Junior Designer', 'Financial Advisor', 'Junior Account Manager',\n",
       "       'Senior Project Manager', 'Principal Scientist',\n",
       "       'Supply Chain Manager', 'Senior Marketing Manager',\n",
       "       'Training Specialist', 'Research Scientist',\n",
       "       'Junior Software Developer', 'Public Relations Manager',\n",
       "       'Operations Analyst', 'Product Marketing Manager',\n",
       "       'Senior HR Manager', 'Junior Web Developer',\n",
       "       'Senior Project Coordinator', 'Chief Data Officer',\n",
       "       'Digital Content Producer', 'IT Support Specialist',\n",
       "       'Senior Marketing Analyst', 'Customer Success Manager',\n",
       "       'Senior Graphic Designer', 'Software Project Manager',\n",
       "       'Supply Chain Analyst', 'Senior Business Analyst',\n",
       "       'Junior Marketing Analyst', 'Office Manager', 'Principal Engineer',\n",
       "       'Junior HR Generalist', 'Senior Product Manager',\n",
       "       'Junior Operations Analyst', 'Senior HR Generalist',\n",
       "       'Sales Operations Manager', 'Senior Software Developer',\n",
       "       'Junior Web Designer', 'Senior Training Specialist',\n",
       "       'Senior Research Scientist', 'Junior Sales Representative',\n",
       "       'Junior Marketing Manager', 'Junior Data Analyst',\n",
       "       'Senior Product Marketing Manager', 'Junior Business Analyst',\n",
       "       'Senior Sales Manager', 'Junior Marketing Specialist',\n",
       "       'Junior Project Manager', 'Senior Accountant', 'Director of Sales',\n",
       "       'Junior Recruiter', 'Senior Business Development Manager',\n",
       "       'Senior Product Designer', 'Junior Customer Support Specialist',\n",
       "       'Senior IT Support Specialist', 'Junior Financial Analyst',\n",
       "       'Senior Operations Manager', 'Director of Human Resources',\n",
       "       'Junior Software Engineer', 'Senior Sales Representative',\n",
       "       'Director of Product Management', 'Junior Copywriter',\n",
       "       'Senior Marketing Coordinator', 'Senior Human Resources Manager',\n",
       "       'Junior Business Development Associate', 'Senior Account Manager',\n",
       "       'Senior Researcher', 'Junior HR Coordinator',\n",
       "       'Director of Finance', 'Junior Marketing Coordinator', nan,\n",
       "       'Junior Data Scientist', 'Senior Operations Analyst',\n",
       "       'Senior Human Resources Coordinator', 'Senior UX Designer',\n",
       "       'Junior Product Manager', 'Senior Marketing Specialist',\n",
       "       'Senior IT Project Manager', 'Senior Quality Assurance Analyst',\n",
       "       'Director of Sales and Marketing', 'Senior Account Executive',\n",
       "       'Director of Business Development', 'Junior Social Media Manager',\n",
       "       'Senior Human Resources Specialist', 'Senior Data Analyst',\n",
       "       'Director of Human Capital', 'Junior Advertising Coordinator',\n",
       "       'Junior UX Designer', 'Senior Marketing Director',\n",
       "       'Senior IT Consultant', 'Senior Financial Advisor',\n",
       "       'Junior Business Operations Analyst',\n",
       "       'Junior Social Media Specialist',\n",
       "       'Senior Product Development Manager', 'Junior Operations Manager',\n",
       "       'Senior Software Architect', 'Junior Research Scientist',\n",
       "       'Senior Financial Manager', 'Senior HR Specialist',\n",
       "       'Senior Data Engineer', 'Junior Operations Coordinator',\n",
       "       'Director of HR', 'Senior Operations Coordinator',\n",
       "       'Junior Financial Advisor', 'Director of Engineering',\n",
       "       'Software Engineer Manager', 'Back end Developer',\n",
       "       'Senior Project Engineer', 'Full Stack Engineer',\n",
       "       'Front end Developer', 'Developer', 'Front End Developer',\n",
       "       'Director of Data Science', 'Human Resources Coordinator',\n",
       "       'Junior Sales Associate', 'Human Resources Manager',\n",
       "       'Juniour HR Generalist', 'Juniour HR Coordinator',\n",
       "       'Digital Marketing Specialist', 'Receptionist',\n",
       "       'Marketing Director', 'Social M', 'Social Media Man',\n",
       "       'Delivery Driver'], dtype=object)"
      ]
     },
     "execution_count": 140,
     "metadata": {},
     "output_type": "execute_result"
    }
   ],
   "source": [
    "df['Job Title'].unique()"
   ]
  },
  {
   "cell_type": "markdown",
   "id": "9157c53a",
   "metadata": {},
   "source": [
    "Este sí va a ser un problemón que muy probablemente resolvamos con IA"
   ]
  },
  {
   "cell_type": "markdown",
   "id": "e3f7db11",
   "metadata": {},
   "source": [
    "### 2. Feature Engineering"
   ]
  },
  {
   "cell_type": "code",
   "execution_count": 141,
   "id": "a2023081",
   "metadata": {},
   "outputs": [],
   "source": [
    "df.dropna(inplace=True)"
   ]
  },
  {
   "cell_type": "code",
   "execution_count": 142,
   "id": "8836c682",
   "metadata": {},
   "outputs": [],
   "source": [
    "df.drop_duplicates(inplace=True)"
   ]
  },
  {
   "cell_type": "markdown",
   "id": "a6327227",
   "metadata": {},
   "source": [
    "Borramos nulos porque son muy pocos"
   ]
  },
  {
   "cell_type": "code",
   "execution_count": 143,
   "id": "6b42a91f",
   "metadata": {},
   "outputs": [],
   "source": [
    "df['Job Title Clean'] = df['Job Title'].str.lower().str.strip()\n",
    "df['Job Title Clean'] = df['Job Title Clean'].str.replace('juniour', 'junior', regex=False)"
   ]
  },
  {
   "cell_type": "markdown",
   "id": "db0a8252",
   "metadata": {},
   "source": [
    "Hacemos Dummies para el puesto de trabajo porque son muchísimos"
   ]
  },
  {
   "cell_type": "code",
   "execution_count": 144,
   "id": "5ef744d8",
   "metadata": {},
   "outputs": [],
   "source": [
    "def categorize_job(title):\n",
    "    if pd.isna(title):\n",
    "        return 'Unknown'\n",
    "    \n",
    "    title = str(title).lower()\n",
    "\n",
    "    if any(keyword in title for keyword in ['software', 'developer', 'engineer', 'it', 'technical support', 'network', 'web dev', 'stack', 'front end', 'back end']):\n",
    "        return 'Tecnología e IT'\n",
    "    elif any(keyword in title for keyword in ['data analy', 'data scien', 'business intelligence', 'data engineer']):\n",
    "        return 'Análisis de Datos'\n",
    "    elif any(keyword in title for keyword in ['sales', 'account manager', 'business development', 'account executive']):\n",
    "        return 'Ventas y Biz Dev'\n",
    "    elif any(keyword in title for keyword in ['marketing', 'social media', 'copywriter', 'content', 'public relations', 'creative', 'graphic designer']):\n",
    "        return 'Marketing y Comunicación'\n",
    "    elif any(keyword in title for keyword in ['hr', 'human resources', 'recruiter', 'training']):\n",
    "        return 'Recursos Humanos'\n",
    "    elif any(keyword in title for keyword in ['financial', 'accountant', 'finance']):\n",
    "        return 'Finanzas y Contabilidad'\n",
    "    elif any(keyword in title for keyword in ['operations', 'project manager', 'supply chain', 'project engineer']):\n",
    "        return 'Operaciones y Gestión'\n",
    "    elif any(keyword in title for keyword in ['director', 'vp', 'ceo', 'chief', 'manager']):\n",
    "        # Se pone al final para no capturar 'Project Manager' o 'Sales Manager' antes\n",
    "        return 'Dirección y Liderazgo'\n",
    "    elif any(keyword in title for keyword in ['customer service', 'customer success', 'help desk']):\n",
    "        return 'Soporte al Cliente'\n",
    "    elif any(keyword in title for keyword in ['product', 'ux', 'ui', 'designer']):\n",
    "        return 'Producto y Diseño'\n",
    "    elif any(keyword in title for keyword in ['administrative', 'office', 'clerk', 'receptionist']):\n",
    "        return 'Administrativo'\n",
    "    elif any(keyword in title for keyword in ['scientist', 'researcher']):\n",
    "        return 'Investigación'\n",
    "    else:\n",
    "        return 'Otro'"
   ]
  },
  {
   "cell_type": "code",
   "execution_count": 145,
   "id": "644459b0",
   "metadata": {},
   "outputs": [
    {
     "name": "stdout",
     "output_type": "stream",
     "text": [
      "Job Category\n",
      "Tecnología e IT             812\n",
      "Marketing y Comunicación    226\n",
      "Análisis de Datos           160\n",
      "Ventas y Biz Dev            151\n",
      "Recursos Humanos            136\n",
      "Dirección y Liderazgo        83\n",
      "Operaciones y Gestión        73\n",
      "Finanzas y Contabilidad      68\n",
      "Investigación                25\n",
      "Otro                         22\n",
      "Producto y Diseño            19\n",
      "Soporte al Cliente            6\n",
      "Administrativo                6\n",
      "Name: count, dtype: int64\n"
     ]
    }
   ],
   "source": [
    "# Aplicar la función para crear la nueva columna de categorías\n",
    "df['Job Category'] = df['Job Title Clean'].apply(categorize_job)\n",
    "\n",
    "# Verificar la distribución de las nuevas categorías\n",
    "print(df['Job Category'].value_counts())\n",
    "\n",
    "# Ahora sí, crea las variables dummy a partir de la nueva columna\n",
    "df = pd.get_dummies(df, columns=['Job Category'], drop_first=True, prefix='Job')"
   ]
  },
  {
   "cell_type": "markdown",
   "id": "fa31a0ba",
   "metadata": {},
   "source": [
    "Tiraremos la categoría \"Otro\" porque solo haría ruido en el modelo y la interpretación"
   ]
  },
  {
   "cell_type": "code",
   "execution_count": 146,
   "id": "b82d4edb",
   "metadata": {},
   "outputs": [
    {
     "name": "stdout",
     "output_type": "stream",
     "text": [
      "<class 'pandas.core.frame.DataFrame'>\n",
      "Index: 1787 entries, 0 to 6631\n",
      "Data columns (total 17 columns):\n",
      " #   Column                        Non-Null Count  Dtype  \n",
      "---  ------                        --------------  -----  \n",
      " 0   Age                           1787 non-null   float64\n",
      " 1   Gender                        1787 non-null   object \n",
      " 2   Education Level               1787 non-null   object \n",
      " 3   Job Title                     1787 non-null   object \n",
      " 4   Years of Experience           1787 non-null   float64\n",
      " 5   Salary                        1787 non-null   float64\n",
      " 6   Job_Análisis de Datos         1787 non-null   bool   \n",
      " 7   Job_Dirección y Liderazgo     1787 non-null   bool   \n",
      " 8   Job_Finanzas y Contabilidad   1787 non-null   bool   \n",
      " 9   Job_Investigación             1787 non-null   bool   \n",
      " 10  Job_Marketing y Comunicación  1787 non-null   bool   \n",
      " 11  Job_Operaciones y Gestión     1787 non-null   bool   \n",
      " 12  Job_Producto y Diseño         1787 non-null   bool   \n",
      " 13  Job_Recursos Humanos          1787 non-null   bool   \n",
      " 14  Job_Soporte al Cliente        1787 non-null   bool   \n",
      " 15  Job_Tecnología e IT           1787 non-null   bool   \n",
      " 16  Job_Ventas y Biz Dev          1787 non-null   bool   \n",
      "dtypes: bool(11), float64(3), object(3)\n",
      "memory usage: 116.9+ KB\n"
     ]
    }
   ],
   "source": [
    "df.drop(columns=['Job Title Clean', 'Job_Otro'], inplace=True)\n",
    "df.info()"
   ]
  },
  {
   "cell_type": "markdown",
   "id": "27e340cd",
   "metadata": {},
   "source": [
    "Hacemos variables dummies para los grados de educación"
   ]
  },
  {
   "cell_type": "code",
   "execution_count": 147,
   "id": "dab76912",
   "metadata": {},
   "outputs": [
    {
     "data": {
      "text/plain": [
       "Education Level\n",
       "bachelor's     768\n",
       "master's       568\n",
       "PhD            341\n",
       "high school    110\n",
       "Name: count, dtype: int64"
      ]
     },
     "execution_count": 147,
     "metadata": {},
     "output_type": "execute_result"
    }
   ],
   "source": [
    "# 2. Convertir todo a minúsculas para estandarizar\n",
    "df['Education Level'] = df['Education Level'].str.lower()\n",
    "\n",
    "# 3. Reemplazar las variaciones para unificar los términos\n",
    "#    Eliminamos ' degree' y corregimos 'phd'\n",
    "df['Education Level'] = df['Education Level'].str.replace(' degree', '', regex=False)\n",
    "df['Education Level'] = df['Education Level'].str.replace('phd', 'PhD', regex=False)\n",
    "\n",
    "df['Education Level'].value_counts()"
   ]
  },
  {
   "cell_type": "markdown",
   "id": "a6464a2b",
   "metadata": {},
   "source": [
    "Hacemos Dummies ahora sí"
   ]
  },
  {
   "cell_type": "code",
   "execution_count": 148,
   "id": "d72ea8f2",
   "metadata": {},
   "outputs": [],
   "source": [
    "df = pd.get_dummies(df, columns=['Education Level'])"
   ]
  },
  {
   "cell_type": "code",
   "execution_count": 149,
   "id": "36cfb025",
   "metadata": {},
   "outputs": [
    {
     "name": "stdout",
     "output_type": "stream",
     "text": [
      "<class 'pandas.core.frame.DataFrame'>\n",
      "Index: 1787 entries, 0 to 6631\n",
      "Data columns (total 20 columns):\n",
      " #   Column                        Non-Null Count  Dtype  \n",
      "---  ------                        --------------  -----  \n",
      " 0   Age                           1787 non-null   float64\n",
      " 1   Gender                        1787 non-null   object \n",
      " 2   Job Title                     1787 non-null   object \n",
      " 3   Years of Experience           1787 non-null   float64\n",
      " 4   Salary                        1787 non-null   float64\n",
      " 5   Job_Análisis de Datos         1787 non-null   bool   \n",
      " 6   Job_Dirección y Liderazgo     1787 non-null   bool   \n",
      " 7   Job_Finanzas y Contabilidad   1787 non-null   bool   \n",
      " 8   Job_Investigación             1787 non-null   bool   \n",
      " 9   Job_Marketing y Comunicación  1787 non-null   bool   \n",
      " 10  Job_Operaciones y Gestión     1787 non-null   bool   \n",
      " 11  Job_Producto y Diseño         1787 non-null   bool   \n",
      " 12  Job_Recursos Humanos          1787 non-null   bool   \n",
      " 13  Job_Soporte al Cliente        1787 non-null   bool   \n",
      " 14  Job_Tecnología e IT           1787 non-null   bool   \n",
      " 15  Job_Ventas y Biz Dev          1787 non-null   bool   \n",
      " 16  Education Level_PhD           1787 non-null   bool   \n",
      " 17  Education Level_bachelor's    1787 non-null   bool   \n",
      " 18  Education Level_high school   1787 non-null   bool   \n",
      " 19  Education Level_master's      1787 non-null   bool   \n",
      "dtypes: bool(15), float64(3), object(2)\n",
      "memory usage: 109.9+ KB\n"
     ]
    }
   ],
   "source": [
    "df.info()"
   ]
  },
  {
   "cell_type": "markdown",
   "id": "3b58f173",
   "metadata": {},
   "source": [
    "Hacemos ahora dummies para el género"
   ]
  },
  {
   "cell_type": "code",
   "execution_count": 150,
   "id": "32c0aa62",
   "metadata": {},
   "outputs": [],
   "source": [
    "# Hacemos ahora dummies para el género\n",
    "df = pd.get_dummies(df, columns=['Gender'])"
   ]
  },
  {
   "cell_type": "code",
   "execution_count": 151,
   "id": "12924ace",
   "metadata": {},
   "outputs": [
    {
     "name": "stdout",
     "output_type": "stream",
     "text": [
      "<class 'pandas.core.frame.DataFrame'>\n",
      "Index: 1787 entries, 0 to 6631\n",
      "Data columns (total 22 columns):\n",
      " #   Column                        Non-Null Count  Dtype  \n",
      "---  ------                        --------------  -----  \n",
      " 0   Age                           1787 non-null   float64\n",
      " 1   Job Title                     1787 non-null   object \n",
      " 2   Years of Experience           1787 non-null   float64\n",
      " 3   Salary                        1787 non-null   float64\n",
      " 4   Job_Análisis de Datos         1787 non-null   bool   \n",
      " 5   Job_Dirección y Liderazgo     1787 non-null   bool   \n",
      " 6   Job_Finanzas y Contabilidad   1787 non-null   bool   \n",
      " 7   Job_Investigación             1787 non-null   bool   \n",
      " 8   Job_Marketing y Comunicación  1787 non-null   bool   \n",
      " 9   Job_Operaciones y Gestión     1787 non-null   bool   \n",
      " 10  Job_Producto y Diseño         1787 non-null   bool   \n",
      " 11  Job_Recursos Humanos          1787 non-null   bool   \n",
      " 12  Job_Soporte al Cliente        1787 non-null   bool   \n",
      " 13  Job_Tecnología e IT           1787 non-null   bool   \n",
      " 14  Job_Ventas y Biz Dev          1787 non-null   bool   \n",
      " 15  Education Level_PhD           1787 non-null   bool   \n",
      " 16  Education Level_bachelor's    1787 non-null   bool   \n",
      " 17  Education Level_high school   1787 non-null   bool   \n",
      " 18  Education Level_master's      1787 non-null   bool   \n",
      " 19  Gender_Female                 1787 non-null   bool   \n",
      " 20  Gender_Male                   1787 non-null   bool   \n",
      " 21  Gender_Other                  1787 non-null   bool   \n",
      "dtypes: bool(18), float64(3), object(1)\n",
      "memory usage: 101.2+ KB\n"
     ]
    }
   ],
   "source": [
    "df.info()"
   ]
  },
  {
   "cell_type": "markdown",
   "id": "e11dc093",
   "metadata": {},
   "source": [
    "Ahora tiramos columnas de más"
   ]
  },
  {
   "cell_type": "code",
   "execution_count": 152,
   "id": "ca917d83",
   "metadata": {},
   "outputs": [],
   "source": [
    "df.drop(columns=['Gender_Other', 'Job Title'], inplace=True)"
   ]
  },
  {
   "cell_type": "code",
   "execution_count": 153,
   "id": "0eedb473",
   "metadata": {},
   "outputs": [
    {
     "name": "stdout",
     "output_type": "stream",
     "text": [
      "<class 'pandas.core.frame.DataFrame'>\n",
      "Index: 1787 entries, 0 to 6631\n",
      "Data columns (total 20 columns):\n",
      " #   Column                        Non-Null Count  Dtype  \n",
      "---  ------                        --------------  -----  \n",
      " 0   Age                           1787 non-null   float64\n",
      " 1   Years of Experience           1787 non-null   float64\n",
      " 2   Salary                        1787 non-null   float64\n",
      " 3   Job_Análisis de Datos         1787 non-null   bool   \n",
      " 4   Job_Dirección y Liderazgo     1787 non-null   bool   \n",
      " 5   Job_Finanzas y Contabilidad   1787 non-null   bool   \n",
      " 6   Job_Investigación             1787 non-null   bool   \n",
      " 7   Job_Marketing y Comunicación  1787 non-null   bool   \n",
      " 8   Job_Operaciones y Gestión     1787 non-null   bool   \n",
      " 9   Job_Producto y Diseño         1787 non-null   bool   \n",
      " 10  Job_Recursos Humanos          1787 non-null   bool   \n",
      " 11  Job_Soporte al Cliente        1787 non-null   bool   \n",
      " 12  Job_Tecnología e IT           1787 non-null   bool   \n",
      " 13  Job_Ventas y Biz Dev          1787 non-null   bool   \n",
      " 14  Education Level_PhD           1787 non-null   bool   \n",
      " 15  Education Level_bachelor's    1787 non-null   bool   \n",
      " 16  Education Level_high school   1787 non-null   bool   \n",
      " 17  Education Level_master's      1787 non-null   bool   \n",
      " 18  Gender_Female                 1787 non-null   bool   \n",
      " 19  Gender_Male                   1787 non-null   bool   \n",
      "dtypes: bool(17), float64(3)\n",
      "memory usage: 85.5 KB\n"
     ]
    }
   ],
   "source": [
    "df.info()"
   ]
  },
  {
   "cell_type": "code",
   "execution_count": 154,
   "id": "8a938d3b",
   "metadata": {},
   "outputs": [
    {
     "data": {
      "text/plain": [
       "Age                             0.0\n",
       "Years of Experience             0.0\n",
       "Salary                          0.0\n",
       "Job_Análisis de Datos           0.0\n",
       "Job_Dirección y Liderazgo       0.0\n",
       "Job_Finanzas y Contabilidad     0.0\n",
       "Job_Investigación               0.0\n",
       "Job_Marketing y Comunicación    0.0\n",
       "Job_Operaciones y Gestión       0.0\n",
       "Job_Producto y Diseño           0.0\n",
       "Job_Recursos Humanos            0.0\n",
       "Job_Soporte al Cliente          0.0\n",
       "Job_Tecnología e IT             0.0\n",
       "Job_Ventas y Biz Dev            0.0\n",
       "Education Level_PhD             0.0\n",
       "Education Level_bachelor's      0.0\n",
       "Education Level_high school     0.0\n",
       "Education Level_master's        0.0\n",
       "Gender_Female                   0.0\n",
       "Gender_Male                     0.0\n",
       "dtype: float64"
      ]
     },
     "execution_count": 154,
     "metadata": {},
     "output_type": "execute_result"
    }
   ],
   "source": [
    "df.isnull().sum()/len(df)"
   ]
  },
  {
   "cell_type": "code",
   "execution_count": 155,
   "id": "357413b3",
   "metadata": {},
   "outputs": [],
   "source": [
    "df.reset_index(inplace=True)"
   ]
  },
  {
   "cell_type": "code",
   "execution_count": 156,
   "id": "b67b0ad0",
   "metadata": {},
   "outputs": [
    {
     "data": {
      "text/html": [
       "<div>\n",
       "<style scoped>\n",
       "    .dataframe tbody tr th:only-of-type {\n",
       "        vertical-align: middle;\n",
       "    }\n",
       "\n",
       "    .dataframe tbody tr th {\n",
       "        vertical-align: top;\n",
       "    }\n",
       "\n",
       "    .dataframe thead th {\n",
       "        text-align: right;\n",
       "    }\n",
       "</style>\n",
       "<table border=\"1\" class=\"dataframe\">\n",
       "  <thead>\n",
       "    <tr style=\"text-align: right;\">\n",
       "      <th></th>\n",
       "      <th>index</th>\n",
       "      <th>Age</th>\n",
       "      <th>Years of Experience</th>\n",
       "      <th>Salary</th>\n",
       "      <th>Job_Análisis de Datos</th>\n",
       "      <th>Job_Dirección y Liderazgo</th>\n",
       "      <th>Job_Finanzas y Contabilidad</th>\n",
       "      <th>Job_Investigación</th>\n",
       "      <th>Job_Marketing y Comunicación</th>\n",
       "      <th>Job_Operaciones y Gestión</th>\n",
       "      <th>...</th>\n",
       "      <th>Job_Recursos Humanos</th>\n",
       "      <th>Job_Soporte al Cliente</th>\n",
       "      <th>Job_Tecnología e IT</th>\n",
       "      <th>Job_Ventas y Biz Dev</th>\n",
       "      <th>Education Level_PhD</th>\n",
       "      <th>Education Level_bachelor's</th>\n",
       "      <th>Education Level_high school</th>\n",
       "      <th>Education Level_master's</th>\n",
       "      <th>Gender_Female</th>\n",
       "      <th>Gender_Male</th>\n",
       "    </tr>\n",
       "  </thead>\n",
       "  <tbody>\n",
       "    <tr>\n",
       "      <th>0</th>\n",
       "      <td>0</td>\n",
       "      <td>32.0</td>\n",
       "      <td>5.0</td>\n",
       "      <td>90000.0</td>\n",
       "      <td>False</td>\n",
       "      <td>False</td>\n",
       "      <td>False</td>\n",
       "      <td>False</td>\n",
       "      <td>False</td>\n",
       "      <td>False</td>\n",
       "      <td>...</td>\n",
       "      <td>False</td>\n",
       "      <td>False</td>\n",
       "      <td>True</td>\n",
       "      <td>False</td>\n",
       "      <td>False</td>\n",
       "      <td>True</td>\n",
       "      <td>False</td>\n",
       "      <td>False</td>\n",
       "      <td>False</td>\n",
       "      <td>True</td>\n",
       "    </tr>\n",
       "    <tr>\n",
       "      <th>1</th>\n",
       "      <td>1</td>\n",
       "      <td>28.0</td>\n",
       "      <td>3.0</td>\n",
       "      <td>65000.0</td>\n",
       "      <td>True</td>\n",
       "      <td>False</td>\n",
       "      <td>False</td>\n",
       "      <td>False</td>\n",
       "      <td>False</td>\n",
       "      <td>False</td>\n",
       "      <td>...</td>\n",
       "      <td>False</td>\n",
       "      <td>False</td>\n",
       "      <td>False</td>\n",
       "      <td>False</td>\n",
       "      <td>False</td>\n",
       "      <td>False</td>\n",
       "      <td>False</td>\n",
       "      <td>True</td>\n",
       "      <td>True</td>\n",
       "      <td>False</td>\n",
       "    </tr>\n",
       "    <tr>\n",
       "      <th>2</th>\n",
       "      <td>2</td>\n",
       "      <td>45.0</td>\n",
       "      <td>15.0</td>\n",
       "      <td>150000.0</td>\n",
       "      <td>False</td>\n",
       "      <td>True</td>\n",
       "      <td>False</td>\n",
       "      <td>False</td>\n",
       "      <td>False</td>\n",
       "      <td>False</td>\n",
       "      <td>...</td>\n",
       "      <td>False</td>\n",
       "      <td>False</td>\n",
       "      <td>False</td>\n",
       "      <td>False</td>\n",
       "      <td>True</td>\n",
       "      <td>False</td>\n",
       "      <td>False</td>\n",
       "      <td>False</td>\n",
       "      <td>False</td>\n",
       "      <td>True</td>\n",
       "    </tr>\n",
       "    <tr>\n",
       "      <th>3</th>\n",
       "      <td>3</td>\n",
       "      <td>36.0</td>\n",
       "      <td>7.0</td>\n",
       "      <td>60000.0</td>\n",
       "      <td>False</td>\n",
       "      <td>False</td>\n",
       "      <td>False</td>\n",
       "      <td>False</td>\n",
       "      <td>False</td>\n",
       "      <td>False</td>\n",
       "      <td>...</td>\n",
       "      <td>False</td>\n",
       "      <td>False</td>\n",
       "      <td>False</td>\n",
       "      <td>True</td>\n",
       "      <td>False</td>\n",
       "      <td>True</td>\n",
       "      <td>False</td>\n",
       "      <td>False</td>\n",
       "      <td>True</td>\n",
       "      <td>False</td>\n",
       "    </tr>\n",
       "    <tr>\n",
       "      <th>4</th>\n",
       "      <td>4</td>\n",
       "      <td>52.0</td>\n",
       "      <td>20.0</td>\n",
       "      <td>200000.0</td>\n",
       "      <td>False</td>\n",
       "      <td>True</td>\n",
       "      <td>False</td>\n",
       "      <td>False</td>\n",
       "      <td>False</td>\n",
       "      <td>False</td>\n",
       "      <td>...</td>\n",
       "      <td>False</td>\n",
       "      <td>False</td>\n",
       "      <td>False</td>\n",
       "      <td>False</td>\n",
       "      <td>False</td>\n",
       "      <td>False</td>\n",
       "      <td>False</td>\n",
       "      <td>True</td>\n",
       "      <td>False</td>\n",
       "      <td>True</td>\n",
       "    </tr>\n",
       "  </tbody>\n",
       "</table>\n",
       "<p>5 rows × 21 columns</p>\n",
       "</div>"
      ],
      "text/plain": [
       "   index   Age  Years of Experience    Salary  Job_Análisis de Datos  \\\n",
       "0      0  32.0                  5.0   90000.0                  False   \n",
       "1      1  28.0                  3.0   65000.0                   True   \n",
       "2      2  45.0                 15.0  150000.0                  False   \n",
       "3      3  36.0                  7.0   60000.0                  False   \n",
       "4      4  52.0                 20.0  200000.0                  False   \n",
       "\n",
       "   Job_Dirección y Liderazgo  Job_Finanzas y Contabilidad  Job_Investigación  \\\n",
       "0                      False                        False              False   \n",
       "1                      False                        False              False   \n",
       "2                       True                        False              False   \n",
       "3                      False                        False              False   \n",
       "4                       True                        False              False   \n",
       "\n",
       "   Job_Marketing y Comunicación  Job_Operaciones y Gestión  ...  \\\n",
       "0                         False                      False  ...   \n",
       "1                         False                      False  ...   \n",
       "2                         False                      False  ...   \n",
       "3                         False                      False  ...   \n",
       "4                         False                      False  ...   \n",
       "\n",
       "   Job_Recursos Humanos  Job_Soporte al Cliente  Job_Tecnología e IT  \\\n",
       "0                 False                   False                 True   \n",
       "1                 False                   False                False   \n",
       "2                 False                   False                False   \n",
       "3                 False                   False                False   \n",
       "4                 False                   False                False   \n",
       "\n",
       "   Job_Ventas y Biz Dev  Education Level_PhD  Education Level_bachelor's  \\\n",
       "0                 False                False                        True   \n",
       "1                 False                False                       False   \n",
       "2                 False                 True                       False   \n",
       "3                  True                False                        True   \n",
       "4                 False                False                       False   \n",
       "\n",
       "   Education Level_high school  Education Level_master's  Gender_Female  \\\n",
       "0                        False                     False          False   \n",
       "1                        False                      True           True   \n",
       "2                        False                     False          False   \n",
       "3                        False                     False           True   \n",
       "4                        False                      True          False   \n",
       "\n",
       "   Gender_Male  \n",
       "0         True  \n",
       "1        False  \n",
       "2         True  \n",
       "3        False  \n",
       "4         True  \n",
       "\n",
       "[5 rows x 21 columns]"
      ]
     },
     "execution_count": 156,
     "metadata": {},
     "output_type": "execute_result"
    }
   ],
   "source": [
    "df.head()"
   ]
  },
  {
   "cell_type": "code",
   "execution_count": 157,
   "id": "88c62842",
   "metadata": {},
   "outputs": [],
   "source": [
    "df.drop(columns=['index'], inplace=True)"
   ]
  },
  {
   "cell_type": "markdown",
   "id": "044f5df0",
   "metadata": {},
   "source": [
    "El dataframe parece listo para hacer el cross validation"
   ]
  },
  {
   "cell_type": "markdown",
   "id": "51610280",
   "metadata": {},
   "source": [
    "### 3. Creación de Modelos (Cross validation, Escalamiento y penalizaciones cuando necesarias)"
   ]
  },
  {
   "cell_type": "code",
   "execution_count": 158,
   "id": "92c4533d",
   "metadata": {},
   "outputs": [],
   "source": [
    "X = df.drop(columns=['Salary']).values.reshape(-1, len(df.columns)-1)\n",
    "y = df['Salary'].values"
   ]
  },
  {
   "cell_type": "markdown",
   "id": "9ca8a088",
   "metadata": {},
   "source": [
    "#### 1. Modelo 1: Regresión lineal de grado 1"
   ]
  },
  {
   "cell_type": "markdown",
   "id": "f8374b88",
   "metadata": {},
   "source": [
    "##### 1. Primero hacemos Cross Validation"
   ]
  },
  {
   "cell_type": "code",
   "execution_count": 159,
   "id": "9ce5813b",
   "metadata": {},
   "outputs": [
    {
     "name": "stdout",
     "output_type": "stream",
     "text": [
      "MAPE Promedio: 49.13%\n",
      "Desviación Estándar del MAPE: 16.59%\n",
      "MSE Promedio: 573690897.73\n",
      "Desviación Estándar del MSE: 54997643.94\n",
      "R2 Promedio (Test Set): 0.7831\n",
      "R2 Desviación Estándar: 0.0228\n"
     ]
    }
   ],
   "source": [
    "poly_degree = 1\n",
    "k_folds = 5\n",
    "\n",
    "poly = PolynomialFeatures(degree=poly_degree, include_bias=False)\n",
    "scaler = StandardScaler()\n",
    "kf = KFold(n_splits=k_folds, shuffle=True, random_state=137)\n",
    "\n",
    "MSE_scores = []\n",
    "mape_scores = []\n",
    "R2_scores = [] \n",
    "\n",
    "\n",
    "for fold, (train_index, test_index) in enumerate(kf.split(X)):\n",
    "    X_train, X_test = X[train_index], X[test_index]\n",
    "    y_train, y_test = y[train_index], y[test_index]\n",
    "    \n",
    "    X_poly_train = poly.fit_transform(X_train)\n",
    "    X_poly_test = poly.transform(X_test)\n",
    "    \n",
    "    X_scaled_train = scaler.fit_transform(X_poly_train)\n",
    "    X_scaled_test = scaler.transform(X_poly_test)\n",
    "    \n",
    "    X_e_train = sm.add_constant(X_scaled_train, has_constant='add')\n",
    "    model = sm.OLS(y_train, X_e_train).fit()\n",
    "    \n",
    "    X_e_test = sm.add_constant(X_scaled_test, has_constant='add')\n",
    "    y_pred = model.predict(X_e_test)\n",
    "\n",
    "    R2_test_score = r2_score(y_test, y_pred)\n",
    "    R2_scores.append(R2_test_score)\n",
    "    mape_score = mean_absolute_percentage_error(y_test, y_pred) * 100\n",
    "    mape_scores.append(mape_score)\n",
    "    MSE_score = mean_squared_error(y_test, y_pred)\n",
    "    MSE_scores.append(MSE_score)\n",
    "\n",
    "print(f\"MAPE Promedio: {np.mean(mape_scores):.2f}%\")\n",
    "print(f\"Desviación Estándar del MAPE: {np.std(mape_scores):.2f}%\")\n",
    "print(f\"MSE Promedio: {np.mean(MSE_scores):.2f}\")\n",
    "print(f\"Desviación Estándar del MSE: {np.std(MSE_scores):.2f}\")\n",
    "print(f\"R2 Promedio (Test Set): {np.mean(R2_scores):.4f}\")\n",
    "print(f\"R2 Desviación Estándar: {np.std(R2_scores):.4f}\")"
   ]
  },
  {
   "cell_type": "markdown",
   "id": "2071f110",
   "metadata": {},
   "source": [
    " El Error Porcentual Absoluto Medio es muy alto, lo que indica que las predicciones se desvían casi la mitad del valor real del salario. El MSE Promedio también es grande, lo cual es esperado al trabajar con salarios en miles, pero junto con el alto MAPE confirma que un modelo lineal simple tiene un ajuste muy bajo a los datos. La Desviación Estándar del MAPE de ≈16.59% es relativamente alta, lo que nos dice que la calidad del modelo no es buena y varía significativamente dependiendo del fold que se use para la prueba."
   ]
  },
  {
   "cell_type": "markdown",
   "id": "ce8ccf83",
   "metadata": {},
   "source": [
    "##### Penalización Ridge"
   ]
  },
  {
   "cell_type": "code",
   "execution_count": 160,
   "id": "0f08f8c3",
   "metadata": {},
   "outputs": [
    {
     "name": "stdout",
     "output_type": "stream",
     "text": [
      "Lambda: 0.0001, R2 Entrenamiento: 0.7878913624050795, R2 Prueba: 0.8031112642387753\n",
      "Lambda: 0.01, R2 Entrenamiento: 0.7878913618652302, R2 Prueba: 0.8031115565976772\n",
      "Lambda: 1, R2 Entrenamiento: 0.7878863140846339, R2 Prueba: 0.803136168126658\n",
      "Lambda: 10, R2 Entrenamiento: 0.7875811854101035, R2 Prueba: 0.8030850509865541\n",
      "Lambda: 100, R2 Entrenamiento: 0.783209591451349, R2 Prueba: 0.799587220444373\n"
     ]
    }
   ],
   "source": [
    "lambdas = [0.0001, 0.01, 1, 10, 100]\n",
    "resultados_train={}\n",
    "resultados_test={}\n",
    "for l in lambdas:\n",
    "    modelo_ridge = Ridge(alpha=l, fit_intercept=True)\n",
    "    modelo_ridge.fit(X_e_train, y_train)\n",
    "    y_train_ridge = modelo_ridge.predict(X_e_train)\n",
    "    y_test_ridge= modelo_ridge.predict(X_e_test)\n",
    "    # calculo de r2\n",
    "    r2_train_ridge = r2_score(y_train, y_train_ridge)\n",
    "    r2_test_ridge= r2_score(y_test, y_test_ridge)\n",
    "    resultados_train[l] = (r2_train_ridge)\n",
    "    resultados_test[l] = (r2_test_ridge)\n",
    "    print(f\"Lambda: {l}, R2 Entrenamiento: {r2_train_ridge}, R2 Prueba: {r2_test_ridge}\")"
   ]
  },
  {
   "cell_type": "markdown",
   "id": "8b362d9d",
   "metadata": {},
   "source": [
    "Son buenos indicadores, ya que tenemos un R2 de entrenamiento alto para todos los casos y un r2 de prueba aún más alto, lo que significa que no hay un overfit. No obstante, a pesar de usar diferentes lambdas, las cuales definen lo acotado del espacio de soluciones, no hay diferencias significativas."
   ]
  },
  {
   "cell_type": "markdown",
   "id": "7cc44998",
   "metadata": {},
   "source": [
    "##### Penalización Lasso"
   ]
  },
  {
   "cell_type": "code",
   "execution_count": 161,
   "id": "8d0fb173",
   "metadata": {},
   "outputs": [
    {
     "name": "stdout",
     "output_type": "stream",
     "text": [
      "Lambda: 0.0001, R2 Entrenamiento: 0.7878913624051309, R2 Prueba: 0.8031112601713796\n",
      "Lambda: 0.01, R2 Entrenamiento: 0.787891362379758, R2 Prueba: 0.8031111585821546\n",
      "Lambda: 1, R2 Entrenamiento: 0.7878911087571717, R2 Prueba: 0.8031007535314629\n",
      "Lambda: 10, R2 Entrenamiento: 0.7878662039299704, R2 Prueba: 0.8029855663808885\n",
      "Lambda: 100, R2 Entrenamiento: 0.7874095632433016, R2 Prueba: 0.8027215897891165\n"
     ]
    }
   ],
   "source": [
    "warnings.filterwarnings(\"ignore\")\n",
    "\n",
    "lambdas = [0.0001, 0.01, 1, 10, 100]\n",
    "resultados_train={}\n",
    "resultados_test={}\n",
    "for l in lambdas:\n",
    "    modelo_lasso = Lasso(alpha=l, fit_intercept=True)\n",
    "    modelo_lasso.fit(X_e_train, y_train)\n",
    "    y_train_lasso = modelo_lasso.predict(X_e_train)\n",
    "    y_test_lasso= modelo_lasso.predict(X_e_test)\n",
    "    # calculo de r2\n",
    "    r2_train_lasso = r2_score(y_train, y_train_lasso)\n",
    "    r2_test_lasso = r2_score(y_test, y_test_lasso)\n",
    "    resultados_train[l] = (r2_train_lasso)\n",
    "    resultados_test[l] = (r2_test_lasso)\n",
    "\n",
    "    print(f\"Lambda: {l}, R2 Entrenamiento: {r2_train_lasso}, R2 Prueba: {r2_test_lasso}\")"
   ]
  },
  {
   "cell_type": "markdown",
   "id": "e303e860",
   "metadata": {},
   "source": [
    "Pasa lo mismo con el modelo Lasso: son buenos coeficientes pero, comparándolos entre sí, no hay ninguno que destaque."
   ]
  },
  {
   "cell_type": "markdown",
   "id": "9776c7c2",
   "metadata": {},
   "source": [
    "##### Penalización ElasticNet"
   ]
  },
  {
   "cell_type": "code",
   "execution_count": 162,
   "id": "f0b4ce0c",
   "metadata": {},
   "outputs": [
    {
     "name": "stdout",
     "output_type": "stream",
     "text": [
      "Lambda: 0.0001, R2 Entrenamiento: 0.7878913349129529, R2 Prueba: 0.8031133570554765\n",
      "Lambda: 0.01, R2 Entrenamiento: 0.7877096866146176, R2 Prueba: 0.8031390117687061\n",
      "Lambda: 1, R2 Entrenamiento: 0.7526708512901052, R2 Prueba: 0.7686930341969374\n",
      "Lambda: 10, R2 Entrenamiento: 0.42761376214704105, R2 Prueba: 0.43867241072083885\n",
      "Lambda: 100, R2 Entrenamiento: 0.07252878776289984, R2 Prueba: 0.0727405596757783\n"
     ]
    }
   ],
   "source": [
    "lambdas = [0.0001, 0.01, 1, 10, 100]\n",
    "resultados_train={}\n",
    "resultados_test={}\n",
    "for l in lambdas:\n",
    "    modelo_ElasticNet = ElasticNet(alpha=l, fit_intercept=True)\n",
    "    modelo_ElasticNet.fit(X_e_train, y_train)\n",
    "    y_train_ElasticNet = modelo_ElasticNet.predict(X_e_train)\n",
    "    y_test_ElasticNet = modelo_ElasticNet.predict(X_e_test)\n",
    "    # calculo de r2\n",
    "    r2_train_ElasticNet = r2_score(y_train, y_train_ElasticNet)\n",
    "    r2_test_ElasticNet = r2_score(y_test, y_test_ElasticNet)\n",
    "    resultados_train[l] = (r2_train_ElasticNet)\n",
    "    resultados_test[l] = (r2_test_ElasticNet)\n",
    "    print(f\"Lambda: {l}, R2 Entrenamiento: {r2_train_ElasticNet}, R2 Prueba: {r2_test_ElasticNet}\")"
   ]
  },
  {
   "cell_type": "markdown",
   "id": "503fed6f",
   "metadata": {},
   "source": [
    "Para lambda=0.0001, el rendimiento es similar a los modelos anteriores. Sin embargo, en valores de lambda más altos (1, 10, 100), el R \n",
    "2 empieza a disminuir,  mostrando que la combinación de penalizaciones L1 y L2 está simplificando demasiado el modelo, llevando a una pérdida significativa de poder explicativo."
   ]
  },
  {
   "cell_type": "markdown",
   "id": "ed32b8e1",
   "metadata": {},
   "source": [
    "#### 2. Modelo 2: Regresión polinomial de grado 2"
   ]
  },
  {
   "cell_type": "code",
   "execution_count": 163,
   "id": "6ea08b8c",
   "metadata": {},
   "outputs": [
    {
     "name": "stdout",
     "output_type": "stream",
     "text": [
      "MAPE Promedio: 38.98%\n",
      "Desviación Estándar del MAPE: 13.09%\n",
      "MSE Promedio: 376883135.21\n",
      "Desviación Estándar del MSE: 28092631.25\n",
      "R2 Promedio (Test Set): 0.8573\n",
      "R2 Desviación Estándar: 0.0147\n"
     ]
    }
   ],
   "source": [
    "poly_degree = 2\n",
    "k_folds = 5\n",
    "\n",
    "poly = PolynomialFeatures(degree=poly_degree, include_bias=False)\n",
    "scaler = StandardScaler()\n",
    "kf = KFold(n_splits=k_folds, shuffle=True, random_state=137)\n",
    "\n",
    "MSE_scores = []\n",
    "mape_scores = []\n",
    "R2_scores = [] \n",
    "\n",
    "\n",
    "for fold, (train_index, test_index) in enumerate(kf.split(X)):\n",
    "    X_train, X_test = X[train_index], X[test_index]\n",
    "    y_train, y_test = y[train_index], y[test_index]\n",
    "    \n",
    "    X_poly_train = poly.fit_transform(X_train)\n",
    "    X_poly_test = poly.transform(X_test)\n",
    "    \n",
    "    X_scaled_train = scaler.fit_transform(X_poly_train)\n",
    "    X_scaled_test = scaler.transform(X_poly_test)\n",
    "    \n",
    "    X_e_train = sm.add_constant(X_scaled_train, has_constant='add')\n",
    "    model = sm.OLS(y_train, X_e_train).fit()\n",
    "    \n",
    "    X_e_test = sm.add_constant(X_scaled_test, has_constant='add')\n",
    "    y_pred = model.predict(X_e_test)\n",
    "\n",
    "    R2_test_score = r2_score(y_test, y_pred)\n",
    "    R2_scores.append(R2_test_score)\n",
    "    \n",
    "\n",
    "    mape_score = mean_absolute_percentage_error(y_test, y_pred) * 100\n",
    "    mape_scores.append(mape_score)\n",
    "    MSE_score = mean_squared_error(y_test, y_pred)\n",
    "    MSE_scores.append(MSE_score)\n",
    "\n",
    "print(f\"MAPE Promedio: {np.mean(mape_scores):.2f}%\")\n",
    "print(f\"Desviación Estándar del MAPE: {np.std(mape_scores):.2f}%\")\n",
    "print(f\"MSE Promedio: {np.mean(MSE_scores):.2f}\")\n",
    "print(f\"Desviación Estándar del MSE: {np.std(MSE_scores):.2f}\")\n",
    "print(f\"R2 Promedio (Test Set): {np.mean(R2_scores):.4f}\")\n",
    "print(f\"R2 Desviación Estándar: {np.std(R2_scores):.4f}\")"
   ]
  },
  {
   "cell_type": "markdown",
   "id": "9821ba0f",
   "metadata": {},
   "source": [
    "El MAPE promedio es altísimo, lo que indica que las predicciones se alejan enormemente de los valores reales, mientras que el MSE promedio también extremadamente alto. Además, la desviación estándar en ambas métricas es muy grande, lo que evidencia que, al igual que en el modelo 1, hay mucha variación dependiendo de que fold se use. Esto significa que el modelo polinomial no está capturando de manera adecuada la relación entre las variables y el salario."
   ]
  },
  {
   "cell_type": "markdown",
   "id": "fed5ce1e",
   "metadata": {},
   "source": [
    "##### Penalización Ridge"
   ]
  },
  {
   "cell_type": "code",
   "execution_count": 164,
   "id": "198e1a18",
   "metadata": {},
   "outputs": [
    {
     "name": "stdout",
     "output_type": "stream",
     "text": [
      "Lambda: 0.0001, R2 Entrenamiento: 0.8726115259463305, R2 Prueba: 0.87053482860344\n",
      "Lambda: 0.01, R2 Entrenamiento: 0.872599420885959, R2 Prueba: 0.8703702970574446\n",
      "Lambda: 1, R2 Entrenamiento: 0.871668773806825, R2 Prueba: 0.869114391349967\n",
      "Lambda: 10, R2 Entrenamiento: 0.8614782354441666, R2 Prueba: 0.8582423843239965\n",
      "Lambda: 100, R2 Entrenamiento: 0.8313566774404919, R2 Prueba: 0.8290174411322293\n"
     ]
    }
   ],
   "source": [
    "lambdas = [0.0001, 0.01, 1, 10, 100]\n",
    "resultados_train={}\n",
    "resultados_test={}\n",
    "for l in lambdas:\n",
    "    modelo_ridge = Ridge(alpha=l, fit_intercept=True)\n",
    "    modelo_ridge.fit(X_e_train, y_train)\n",
    "    y_train_ridge = modelo_ridge.predict(X_e_train)\n",
    "    y_test_ridge= modelo_ridge.predict(X_e_test)\n",
    "    # calculo de r2\n",
    "    r2_train_ridge = r2_score(y_train, y_train_ridge)\n",
    "    r2_test_ridge= r2_score(y_test, y_test_ridge)\n",
    "    resultados_train[l] = (r2_train_ridge)\n",
    "    resultados_test[l] = (r2_test_ridge)\n",
    "    print(f\"Lambda: {l}, R2 Entrenamiento: {r2_train_ridge}, R2 Prueba: {r2_test_ridge}\")"
   ]
  },
  {
   "cell_type": "markdown",
   "id": "72049c70",
   "metadata": {},
   "source": [
    "Hay una mejora entre esta penalización y sin penalización, lo que sugiera que ridge está ayudando a reducir el ruido o la varianza de los coeficientes, logrando una mejor generalización. Los valores tanto para el train y test son buenos"
   ]
  },
  {
   "cell_type": "markdown",
   "id": "a55aa623",
   "metadata": {},
   "source": [
    "##### Penalización Lasso"
   ]
  },
  {
   "cell_type": "code",
   "execution_count": 165,
   "id": "9548fe4f",
   "metadata": {},
   "outputs": [
    {
     "name": "stdout",
     "output_type": "stream",
     "text": [
      "Lambda: 0.0001, R2 Entrenamiento: 0.8724401735641072, R2 Prueba: 0.8702896416653835\n",
      "Lambda: 0.01, R2 Entrenamiento: 0.8724402958240756, R2 Prueba: 0.8702899493351212\n",
      "Lambda: 1, R2 Entrenamiento: 0.8724476854458771, R2 Prueba: 0.8702742746567732\n",
      "Lambda: 10, R2 Entrenamiento: 0.8720619437365142, R2 Prueba: 0.8687054297934678\n",
      "Lambda: 100, R2 Entrenamiento: 0.8568477565440268, R2 Prueba: 0.852345338305541\n"
     ]
    }
   ],
   "source": [
    "warnings.filterwarnings(\"ignore\")\n",
    "\n",
    "lambdas = [0.0001, 0.01, 1, 10, 100]\n",
    "resultados_train={}\n",
    "resultados_test={}\n",
    "for l in lambdas:\n",
    "    modelo_lasso = Lasso(alpha=l, fit_intercept=True)\n",
    "    modelo_lasso.fit(X_e_train, y_train)\n",
    "    y_train_lasso = modelo_lasso.predict(X_e_train)\n",
    "    y_test_lasso= modelo_lasso.predict(X_e_test)\n",
    "    # calculo de r2\n",
    "    r2_train_lasso = r2_score(y_train, y_train_lasso)\n",
    "    r2_test_lasso = r2_score(y_test, y_test_lasso)\n",
    "    resultados_train[l] = (r2_train_lasso)\n",
    "    resultados_test[l] = (r2_test_lasso)\n",
    "    print(f\"Lambda: {l}, R2 Entrenamiento: {r2_train_lasso}, R2 Prueba: {r2_test_lasso}\")"
   ]
  },
  {
   "cell_type": "markdown",
   "id": "40abb5c8",
   "metadata": {},
   "source": [
    "Con una penalización más agresiva, los coeficientes no cambian significativamente. Sigue existiendo un buen ajuste entre los datos de entrenamiento y prueba"
   ]
  },
  {
   "cell_type": "markdown",
   "id": "5143c8b8",
   "metadata": {},
   "source": [
    "##### Penalización ElasticNet"
   ]
  },
  {
   "cell_type": "code",
   "execution_count": 166,
   "id": "5a796e5d",
   "metadata": {},
   "outputs": [
    {
     "name": "stdout",
     "output_type": "stream",
     "text": [
      "Lambda: 0.0001, R2 Entrenamiento: 0.872431298914802, R2 Prueba: 0.8702450045693577\n",
      "Lambda: 0.01, R2 Entrenamiento: 0.8640261109808336, R2 Prueba: 0.8609687586547599\n",
      "Lambda: 1, R2 Entrenamiento: 0.7920810596145953, R2 Prueba: 0.7948144039262494\n",
      "Lambda: 10, R2 Entrenamiento: 0.6626558760179162, R2 Prueba: 0.6771499028671635\n",
      "Lambda: 100, R2 Entrenamiento: 0.22227145492931188, R2 Prueba: 0.2304387058407128\n"
     ]
    }
   ],
   "source": [
    "lambdas = [0.0001, 0.01, 1, 10, 100]\n",
    "resultados_train={}\n",
    "resultados_test={}\n",
    "for l in lambdas:\n",
    "    modelo_ElasticNet = ElasticNet(alpha=l, fit_intercept=True)\n",
    "    modelo_ElasticNet.fit(X_e_train, y_train)\n",
    "    y_train_ElasticNet = modelo_ElasticNet.predict(X_e_train)\n",
    "    y_test_ElasticNet = modelo_ElasticNet.predict(X_e_test)\n",
    "    # calculo de r2\n",
    "    r2_train_ElasticNet = r2_score(y_train, y_train_ElasticNet)\n",
    "    r2_test_ElasticNet = r2_score(y_test, y_test_ElasticNet)\n",
    "    resultados_train[l] = (r2_train_ElasticNet)\n",
    "    resultados_test[l] = (r2_test_ElasticNet)\n",
    "    print(f\"Lambda: {l}, R2 Entrenamiento: {r2_train_ElasticNet}, R2 Prueba: {r2_test_ElasticNet}\")"
   ]
  },
  {
   "cell_type": "markdown",
   "id": "3f851a3e",
   "metadata": {},
   "source": [
    "Pasa lo mismo con el modelo Lasso: son buenos coeficientes pero, comparándolos entre sí, no hay ninguno que destaque. En conclusión co n este modelo, la penalización sí ayuda bastante y mejora el modelo, pero usando lasso o elastic net no mejora mucho."
   ]
  },
  {
   "cell_type": "markdown",
   "id": "90b8d46d",
   "metadata": {},
   "source": [
    "#### 3. Modelo 3: Regresión polinomial de grado 3"
   ]
  },
  {
   "cell_type": "code",
   "execution_count": 167,
   "id": "f058e3f8",
   "metadata": {},
   "outputs": [
    {
     "name": "stdout",
     "output_type": "stream",
     "text": [
      "MAPE Promedio: 39.79%\n",
      "Desviación Estándar del MAPE: 12.89%\n",
      "MSE Promedio: 1304562887.41\n",
      "Desviación Estándar del MSE: 571563386.94\n",
      "R2 Promedio (Test Set): 0.5030\n",
      "R2 Desviación Estándar: 0.2354\n"
     ]
    }
   ],
   "source": [
    "poly_degree = 3\n",
    "k_folds = 5\n",
    "\n",
    "poly = PolynomialFeatures(degree=poly_degree, include_bias=False)\n",
    "scaler = StandardScaler()\n",
    "kf = KFold(n_splits=k_folds, shuffle=True, random_state=137)\n",
    "\n",
    "MSE_scores = []\n",
    "mape_scores = []\n",
    "R2_scores = [] \n",
    "\n",
    "for fold, (train_index, test_index) in enumerate(kf.split(X)):\n",
    "    X_train, X_test = X[train_index], X[test_index]\n",
    "    y_train, y_test = y[train_index], y[test_index]\n",
    "    \n",
    "    X_poly_train = poly.fit_transform(X_train)\n",
    "    X_poly_test = poly.transform(X_test)\n",
    "    \n",
    "    X_scaled_train = scaler.fit_transform(X_poly_train)\n",
    "    X_scaled_test = scaler.transform(X_poly_test)\n",
    "    \n",
    "    X_e_train = sm.add_constant(X_scaled_train, has_constant='add')\n",
    "    model = sm.OLS(y_train, X_e_train).fit()\n",
    "    \n",
    "    X_e_test = sm.add_constant(X_scaled_test, has_constant='add')\n",
    "    y_pred = model.predict(X_e_test)\n",
    "\n",
    "    R2_test_score = r2_score(y_test, y_pred)\n",
    "    R2_scores.append(R2_test_score)\n",
    "    \n",
    "    \n",
    "    mape_score = mean_absolute_percentage_error(y_test, y_pred) * 100\n",
    "    mape_scores.append(mape_score)\n",
    "    MSE_score = mean_squared_error(y_test, y_pred)\n",
    "    MSE_scores.append(MSE_score)\n",
    "\n",
    "print(f\"MAPE Promedio: {np.mean(mape_scores):.2f}%\")\n",
    "print(f\"Desviación Estándar del MAPE: {np.std(mape_scores):.2f}%\")\n",
    "print(f\"MSE Promedio: {np.mean(MSE_scores):.2f}\")\n",
    "print(f\"Desviación Estándar del MSE: {np.std(MSE_scores):.2f}\")\n",
    "print(f\"R2 Promedio (Test Set): {np.mean(R2_scores):.4f}\")\n",
    "print(f\"R2 Desviación Estándar: {np.std(R2_scores):.4f}\")"
   ]
  },
  {
   "cell_type": "markdown",
   "id": "a96104f3",
   "metadata": {},
   "source": [
    "El modelo de Grado 3 muestra un desempeño muy malo: El MAPE Promedio disminuyó un poco. Lo más fuerte es la enorme Desviación Estándar del MSE, lo que indica una inestabilidad extrema y un sobreajuste severo a los datos de entrenamiento en cada fold. Las altas potencias y las interacciones de tercer orden están capturando el ruido y datos irrelevantes en lugar de una buena generalización."
   ]
  },
  {
   "cell_type": "markdown",
   "id": "a9db254d",
   "metadata": {},
   "source": [
    "##### Penalización Ridge"
   ]
  },
  {
   "cell_type": "code",
   "execution_count": 168,
   "id": "8cf162fb",
   "metadata": {},
   "outputs": [
    {
     "name": "stdout",
     "output_type": "stream",
     "text": [
      "Lambda: 0.0001, R2 Entrenamiento: 0.899771803204785, R2 Prueba: 0.6999160638843955\n",
      "Lambda: 0.01, R2 Entrenamiento: 0.8986658888158074, R2 Prueba: 0.8249598662718971\n",
      "Lambda: 1, R2 Entrenamiento: 0.8949182360629263, R2 Prueba: 0.8342698193577143\n",
      "Lambda: 10, R2 Entrenamiento: 0.8844386321720362, R2 Prueba: 0.8482213639676307\n",
      "Lambda: 100, R2 Entrenamiento: 0.8619357324179404, R2 Prueba: 0.8420334448367094\n"
     ]
    }
   ],
   "source": [
    "lambdas = [0.0001, 0.01, 1, 10, 100]\n",
    "resultados_train={}\n",
    "resultados_test={}\n",
    "for l in lambdas:\n",
    "    modelo_ridge = Ridge(alpha=l, fit_intercept=True)\n",
    "    modelo_ridge.fit(X_e_train, y_train)\n",
    "    y_train_ridge = modelo_ridge.predict(X_e_train)\n",
    "    y_test_ridge= modelo_ridge.predict(X_e_test)\n",
    "    # calculo de r2\n",
    "    r2_train_ridge = r2_score(y_train, y_train_ridge)\n",
    "    r2_test_ridge= r2_score(y_test, y_test_ridge)\n",
    "    resultados_train[l] = (r2_train_ridge)\n",
    "    resultados_test[l] = (r2_test_ridge)\n",
    "    print(f\"Lambda: {l}, R2 Entrenamiento: {r2_train_ridge}, R2 Prueba: {r2_test_ridge}\")"
   ]
  },
  {
   "cell_type": "markdown",
   "id": "8e5fbacf",
   "metadata": {},
   "source": [
    "Ridge logra rescatar completamente el modelo. Al probar distintas lambdas. Esto demuestra que la alta penalización Ridge es esencial para estabilizar los coeficientes \"inflados\" por los términos de Grado 3 y disminuir el sobreajuste. "
   ]
  },
  {
   "cell_type": "markdown",
   "id": "0eda8777",
   "metadata": {},
   "source": [
    "##### Penalización Lasso"
   ]
  },
  {
   "cell_type": "code",
   "execution_count": 169,
   "id": "4d139e33",
   "metadata": {},
   "outputs": [
    {
     "name": "stdout",
     "output_type": "stream",
     "text": [
      "Lambda: 0.0001, R2 Entrenamiento: 0.8953024777037435, R2 Prueba: 0.8293799744307362\n",
      "Lambda: 0.01, R2 Entrenamiento: 0.8953014947928991, R2 Prueba: 0.8294046562871848\n",
      "Lambda: 1, R2 Entrenamiento: 0.8951810302403332, R2 Prueba: 0.8312344234558381\n",
      "Lambda: 10, R2 Entrenamiento: 0.8933374005473338, R2 Prueba: 0.8379876310280159\n",
      "Lambda: 100, R2 Entrenamiento: 0.8738982896075667, R2 Prueba: 0.8518860088543443\n"
     ]
    }
   ],
   "source": [
    "warnings.filterwarnings(\"ignore\")\n",
    "\n",
    "lambdas = [0.0001, 0.01, 1, 10, 100]\n",
    "resultados_train={}\n",
    "resultados_test={}\n",
    "for l in lambdas:\n",
    "    modelo_lasso = Lasso(alpha=l, fit_intercept=True)\n",
    "    modelo_lasso.fit(X_e_train, y_train)\n",
    "    y_train_lasso = modelo_lasso.predict(X_e_train)\n",
    "    y_test_lasso= modelo_lasso.predict(X_e_test)\n",
    "    # calculo de r2\n",
    "    r2_train_lasso = r2_score(y_train, y_train_lasso)\n",
    "    r2_test_lasso = r2_score(y_test, y_test_lasso)\n",
    "    resultados_train[l] = (r2_train_lasso)\n",
    "    resultados_test[l] = (r2_test_lasso)\n",
    "    print(f\"Lambda: {l}, R2 Entrenamiento: {r2_train_lasso}, R2 Prueba: {r2_test_lasso}\")"
   ]
  },
  {
   "cell_type": "markdown",
   "id": "f9260daf",
   "metadata": {},
   "source": [
    "La capacidad de Lasso para llevar coeficientes a cero es útil para la selección de variables, pero Ridge fue más efectivo para la pura estabilización de los coeficientes inflados por el alto grado polinomial. Los coeficientes aumentaron muy poco, pero el cambio más notorio es en el lambda más pequeño, cuyo R2 de prueba mejoró significativamente"
   ]
  },
  {
   "cell_type": "markdown",
   "id": "6b7adf9b",
   "metadata": {},
   "source": [
    "##### Penalización ElasticNet"
   ]
  },
  {
   "cell_type": "code",
   "execution_count": 170,
   "id": "865e2280",
   "metadata": {},
   "outputs": [
    {
     "name": "stdout",
     "output_type": "stream",
     "text": [
      "Lambda: 0.005, R2 Entrenamiento: 0.8906843397039779, R2 Prueba: 0.8425771139165358\n",
      "Lambda: 0.1, R2 Entrenamiento: 0.8663157431300519, R2 Prueba: 0.8442432870325496\n",
      "Lambda: 1, R2 Entrenamiento: 0.8237163595202913, R2 Prueba: 0.8156038704172694\n",
      "Lambda: 10, R2 Entrenamiento: 0.7435545866056232, R2 Prueba: 0.7475479740075561\n",
      "Lambda: 100, R2 Entrenamiento: 0.41711091646574106, R2 Prueba: 0.43248954677663476\n"
     ]
    }
   ],
   "source": [
    "lambdas = [0.005, 0.1, 1, 10, 100]\n",
    "resultados_train={}\n",
    "resultados_test={}\n",
    "for l in lambdas:\n",
    "    modelo_ElasticNet = ElasticNet(alpha=l, fit_intercept=True)\n",
    "    modelo_ElasticNet.fit(X_e_train, y_train)\n",
    "    y_train_ElasticNet = modelo_ElasticNet.predict(X_e_train)\n",
    "    y_test_ElasticNet = modelo_ElasticNet.predict(X_e_test)\n",
    "    # calculo de r2\n",
    "    r2_train_ElasticNet = r2_score(y_train, y_train_ElasticNet)\n",
    "    r2_test_ElasticNet = r2_score(y_test, y_test_ElasticNet)\n",
    "    resultados_train[l] = (r2_train_ElasticNet)\n",
    "    resultados_test[l] = (r2_test_ElasticNet)\n",
    "    print(f\"Lambda: {l}, R2 Entrenamiento: {r2_train_ElasticNet}, R2 Prueba: {r2_test_ElasticNet}\")"
   ]
  },
  {
   "cell_type": "markdown",
   "id": "b6d88667",
   "metadata": {},
   "source": [
    "Con la combinación de Ridge y Lasso, usando lambdas grandes, el modelo comienza a empeorar, dando un coeficiente de entrenamiento no muy alto, comparado con los lambdas más pequeños. En contraste con las otras penalizaciones, el único que aumento fue con lambda de 0.05, lo cual indica que esta técnica no es de mucha ayuda. "
   ]
  },
  {
   "cell_type": "markdown",
   "id": "76b15d0d",
   "metadata": {},
   "source": [
    "### 4. Selección de Modelo"
   ]
  },
  {
   "cell_type": "markdown",
   "id": "c47988c9",
   "metadata": {},
   "source": [
    "El Modelo de Regresión Polinomial de Orden 2 con penalización ridge y lambda de 0.01. Terminamos con un R2 de entrenamiento  de 0.872599420885959 y  R2 Prueba de 0.8703702970574446. Si bien hay valores más altos con otras penalizaciones en el R2 de entrenamiento, su R2 de prueba es menor, lo que indica que son peores generalizaciones que el modelo que estamos eligiendo. El modelo final es un ejemplo bueno para capturar relaciones complejas y no lineales que rigen el salario, como la edad o experiencia, permitiéndo encontrar un modelo con predicciones buenas y generalizables. "
   ]
  },
  {
   "cell_type": "markdown",
   "id": "fefe5b17",
   "metadata": {},
   "source": [
    "## 6. Análisis de significancia de factores para modelo sin penalización\n",
    "\n"
   ]
  },
  {
   "cell_type": "markdown",
   "id": "eb190d0f",
   "metadata": {},
   "source": [
    "#### 6.1 Ahora vamos a entrenar el modelo sin penalización con todos los datos y encontrar que significa cada una de nuestras x.\n"
   ]
  },
  {
   "cell_type": "code",
   "execution_count": 171,
   "id": "597bbfc4",
   "metadata": {},
   "outputs": [
    {
     "name": "stdout",
     "output_type": "stream",
     "text": [
      "--- RESUMEN DEL MODELO OLS ESTANDARIZADO (CON P-VALORES CONFIABLES) ---\n",
      "                            OLS Regression Results                            \n",
      "==============================================================================\n",
      "Dep. Variable:                      y   R-squared:                       0.874\n",
      "Model:                            OLS   Adj. R-squared:                  0.867\n",
      "Method:                 Least Squares   F-statistic:                     127.2\n",
      "Date:                Sun, 28 Sep 2025   Prob (F-statistic):               0.00\n",
      "Time:                        18:15:41   Log-Likelihood:                -20079.\n",
      "No. Observations:                1787   AIC:                         4.034e+04\n",
      "Df Residuals:                    1694   BIC:                         4.085e+04\n",
      "Df Model:                          92                                         \n",
      "Covariance Type:            nonrobust                                         \n",
      "============================================================================================================================\n",
      "                                                               coef    std err          t      P>|t|      [0.025      0.975]\n",
      "----------------------------------------------------------------------------------------------------------------------------\n",
      "const                                                     1.132e+05    445.720    253.937      0.000    1.12e+05    1.14e+05\n",
      "Age                                                      -2314.3049   5.57e+04     -0.042      0.967   -1.12e+05    1.07e+05\n",
      "Years of Experience                                       3.745e+04   3.76e+04      0.997      0.319   -3.62e+04    1.11e+05\n",
      "Job_Análisis de Datos                                     2.317e+04   5866.136      3.949      0.000    1.17e+04    3.47e+04\n",
      "Job_Dirección y Liderazgo                                 1.493e+04   4273.663      3.493      0.000    6544.266    2.33e+04\n",
      "Job_Finanzas y Contabilidad                                1.08e+04   3894.415      2.774      0.006    3165.314    1.84e+04\n",
      "Job_Investigación                                         8881.0107   2875.015      3.089      0.002    3242.057    1.45e+04\n",
      "Job_Marketing y Comunicación                              1.136e+04   6698.283      1.695      0.090   -1781.107    2.45e+04\n",
      "Job_Operaciones y Gestión                                 3066.6602   4476.057      0.685      0.493   -5712.523    1.18e+04\n",
      "Job_Producto y Diseño                                     1834.3379   3006.903      0.610      0.542   -4063.298    7731.974\n",
      "Job_Recursos Humanos                                      5396.6620   5314.496      1.015      0.310   -5027.006    1.58e+04\n",
      "Job_Soporte al Cliente                                     469.9506   6292.724      0.075      0.940   -1.19e+04    1.28e+04\n",
      "Job_Tecnología e IT                                       1.387e+04    1.4e+04      0.993      0.321   -1.35e+04    4.13e+04\n",
      "Job_Ventas y Biz Dev                                      3124.3207   5268.494      0.593      0.553   -7209.122    1.35e+04\n",
      "Education Level_PhD                                      -2478.4772   3589.265     -0.691      0.490   -9518.338    4561.384\n",
      "Education Level_bachelor's                                3662.9800   4140.731      0.885      0.376   -4458.507    1.18e+04\n",
      "Education Level_high school                               3654.9545   4272.395      0.855      0.392   -4724.773     1.2e+04\n",
      "Education Level_master's                                 -3689.2641   5672.770     -0.650      0.516   -1.48e+04    7437.111\n",
      "Gender_Female                                            -9678.5045   1.67e+04     -0.581      0.561   -4.23e+04     2.3e+04\n",
      "Gender_Male                                              -3029.1488   1.64e+04     -0.185      0.854   -3.52e+04    2.92e+04\n",
      "Age^2                                                     1.735e+04   2.13e+04      0.814      0.416   -2.45e+04    5.92e+04\n",
      "Age Years of Experience                                  -1.751e+04   3.16e+04     -0.553      0.580   -7.96e+04    4.45e+04\n",
      "Age Job_Análisis de Datos                                -1.178e+05   3.05e+04     -3.861      0.000   -1.78e+05    -5.8e+04\n",
      "Age Job_Dirección y Liderazgo                            -7.551e+04   2.24e+04     -3.370      0.001   -1.19e+05   -3.16e+04\n",
      "Age Job_Finanzas y Contabilidad                          -6.167e+04   2.06e+04     -2.991      0.003   -1.02e+05   -2.12e+04\n",
      "Age Job_Investigación                                    -5.384e+04   1.66e+04     -3.251      0.001   -8.63e+04   -2.14e+04\n",
      "Age Job_Marketing y Comunicación                         -7.054e+04   3.57e+04     -1.978      0.048    -1.4e+05    -587.139\n",
      "Age Job_Operaciones y Gestión                            -1.711e+04   2.56e+04     -0.668      0.504   -6.73e+04    3.31e+04\n",
      "Age Job_Producto y Diseño                                -7868.2115   1.49e+04     -0.529      0.597    -3.7e+04    2.13e+04\n",
      "Age Job_Recursos Humanos                                 -3.411e+04   2.83e+04     -1.206      0.228   -8.96e+04    2.14e+04\n",
      "Age Job_Soporte al Cliente                               -1403.0159   2.79e+04     -0.050      0.960   -5.62e+04    5.34e+04\n",
      "Age Job_Tecnología e IT                                  -4.716e+04   5.49e+04     -0.859      0.391   -1.55e+05    6.06e+04\n",
      "Age Job_Ventas y Biz Dev                                 -1.865e+04   2.62e+04     -0.712      0.476      -7e+04    3.27e+04\n",
      "Age Education Level_PhD                                   2.071e+04   1.13e+04      1.830      0.067   -1488.552    4.29e+04\n",
      "Age Education Level_bachelor's                           -3.318e+04   9356.354     -3.546      0.000   -5.15e+04   -1.48e+04\n",
      "Age Education Level_high school                          -7782.5832   6628.643     -1.174      0.241   -2.08e+04    5218.607\n",
      "Age Education Level_master's                              1.297e+04      1e+04      1.293      0.196   -6699.148    3.26e+04\n",
      "Age Gender_Female                                         3.868e+04   1.17e+05      0.331      0.741    -1.9e+05    2.68e+05\n",
      "Age Gender_Male                                             2.6e+04   1.22e+05      0.214      0.831   -2.13e+05    2.65e+05\n",
      "Years of Experience^2                                    -3.139e+04    1.1e+04     -2.853      0.004    -5.3e+04   -9812.732\n",
      "Years of Experience Job_Análisis de Datos                 4.629e+04   1.17e+04      3.945      0.000    2.33e+04    6.93e+04\n",
      "Years of Experience Job_Dirección y Liderazgo             3.157e+04   8382.317      3.766      0.000    1.51e+04     4.8e+04\n",
      "Years of Experience Job_Finanzas y Contabilidad           2.751e+04   6868.528      4.006      0.000     1.4e+04     4.1e+04\n",
      "Years of Experience Job_Investigación                     2.117e+04   7021.514      3.015      0.003    7396.252    3.49e+04\n",
      "Years of Experience Job_Marketing y Comunicación          3.824e+04   1.29e+04      2.964      0.003    1.29e+04    6.35e+04\n",
      "Years of Experience Job_Operaciones y Gestión             1.091e+04   9796.831      1.114      0.266   -8306.037    3.01e+04\n",
      "Years of Experience Job_Producto y Diseño                 1372.8831   5522.433      0.249      0.804   -9458.626    1.22e+04\n",
      "Years of Experience Job_Recursos Humanos                  1.666e+04   9527.477      1.749      0.081   -2026.308    3.53e+04\n",
      "Years of Experience Job_Soporte al Cliente                -641.3005   3614.597     -0.177      0.859   -7730.845    6448.244\n",
      "Years of Experience Job_Tecnología e IT                    3.59e+04   2.56e+04      1.402      0.161   -1.43e+04    8.61e+04\n",
      "Years of Experience Job_Ventas y Biz Dev                  1.037e+04   7348.570      1.412      0.158   -4038.244    2.48e+04\n",
      "Years of Experience Education Level_PhD                   1.032e+04   1.65e+04      0.626      0.531    -2.2e+04    4.27e+04\n",
      "Years of Experience Education Level_bachelor's            2.293e+04   1.22e+04      1.887      0.059    -907.801    4.68e+04\n",
      "Years of Experience Education Level_high school           5232.8508   3940.479      1.328      0.184   -2495.867     1.3e+04\n",
      "Years of Experience Education Level_master's              1.159e+04   1.48e+04      0.782      0.434   -1.75e+04    4.07e+04\n",
      "Years of Experience Gender_Female                        -1.596e+04   4.34e+04     -0.368      0.713   -1.01e+05    6.91e+04\n",
      "Years of Experience Gender_Male                          -1.067e+04    4.8e+04     -0.222      0.824   -1.05e+05    8.34e+04\n",
      "Job_Análisis de Datos^2                                   2.317e+04   5866.136      3.949      0.000    1.17e+04    3.47e+04\n",
      "Job_Análisis de Datos Job_Dirección y Liderazgo           1.948e-09   4.29e-09      0.454      0.650   -6.47e-09    1.04e-08\n",
      "Job_Análisis de Datos Job_Finanzas y Contabilidad        -2.237e-09   4.57e-09     -0.490      0.624   -1.12e-08    6.72e-09\n",
      "Job_Análisis de Datos Job_Investigación                     6.1e-10   5.13e-09      0.119      0.905   -9.45e-09    1.07e-08\n",
      "Job_Análisis de Datos Job_Marketing y Comunicación        7.173e-10   4.88e-10      1.471      0.141   -2.39e-10    1.67e-09\n",
      "Job_Análisis de Datos Job_Operaciones y Gestión          -4.179e-09    6.3e-09     -0.664      0.507   -1.65e-08    8.17e-09\n",
      "Job_Análisis de Datos Job_Producto y Diseño               4.235e-10   5.36e-09      0.079      0.937   -1.01e-08    1.09e-08\n",
      "Job_Análisis de Datos Job_Recursos Humanos               -1.023e-10   6.98e-09     -0.015      0.988   -1.38e-08    1.36e-08\n",
      "Job_Análisis de Datos Job_Soporte al Cliente             -2.243e-10   8.83e-10     -0.254      0.800   -1.96e-09    1.51e-09\n",
      "Job_Análisis de Datos Job_Tecnología e IT                -1.602e-09   4.46e-09     -0.359      0.719   -1.03e-08    7.14e-09\n",
      "Job_Análisis de Datos Job_Ventas y Biz Dev               -1.109e-09    3.9e-09     -0.284      0.776   -8.76e-09    6.54e-09\n",
      "Job_Análisis de Datos Education Level_PhD                 1.131e+04   4493.661      2.517      0.012    2496.831    2.01e+04\n",
      "Job_Análisis de Datos Education Level_bachelor's          1.512e+04   3220.776      4.694      0.000    8800.450    2.14e+04\n",
      "Job_Análisis de Datos Education Level_high school        -4.219e-10   2.37e-09     -0.178      0.859   -5.08e-09    4.23e-09\n",
      "Job_Análisis de Datos Education Level_master's            1.324e+04   3115.375      4.249      0.000    7125.398    1.93e+04\n",
      "Job_Análisis de Datos Gender_Female                       1.584e+04   3687.930      4.294      0.000    8603.732    2.31e+04\n",
      "Job_Análisis de Datos Gender_Male                         1.641e+04   4572.756      3.590      0.000    7446.014    2.54e+04\n",
      "Job_Dirección y Liderazgo^2                               1.493e+04   4273.663      3.493      0.000    6544.266    2.33e+04\n",
      "Job_Dirección y Liderazgo Job_Finanzas y Contabilidad    -8.563e-10   1.34e-09     -0.638      0.524   -3.49e-09    1.78e-09\n",
      "Job_Dirección y Liderazgo Job_Investigación              -1.057e-09   9.22e-10     -1.147      0.252   -2.86e-09    7.51e-10\n",
      "Job_Dirección y Liderazgo Job_Marketing y Comunicación   -6.965e-10   4.86e-10     -1.434      0.152   -1.65e-09    2.56e-10\n",
      "Job_Dirección y Liderazgo Job_Operaciones y Gestión      -1.654e-11    3.3e-10     -0.050      0.960   -6.64e-10    6.31e-10\n",
      "Job_Dirección y Liderazgo Job_Producto y Diseño           5.944e-10   6.89e-10      0.863      0.388   -7.57e-10    1.95e-09\n",
      "Job_Dirección y Liderazgo Job_Recursos Humanos            1.649e-10   2.01e-10      0.821      0.412   -2.29e-10    5.59e-10\n",
      "Job_Dirección y Liderazgo Job_Soporte al Cliente         -8.862e-11   2.32e-10     -0.382      0.702   -5.43e-10    3.66e-10\n",
      "Job_Dirección y Liderazgo Job_Tecnología e IT            -1.015e-10   9.04e-11     -1.123      0.262   -2.79e-10    7.57e-11\n",
      "Job_Dirección y Liderazgo Job_Ventas y Biz Dev           -7.843e-11    1.2e-10     -0.653      0.514   -3.14e-10    1.57e-10\n",
      "Job_Dirección y Liderazgo Education Level_PhD             3591.5595   2302.514      1.560      0.119    -924.511    8107.630\n",
      "Job_Dirección y Liderazgo Education Level_bachelor's      1.088e+04   3010.317      3.615      0.000    4976.876    1.68e+04\n",
      "Job_Dirección y Liderazgo Education Level_high school     1.153e-10    3.7e-10      0.311      0.756   -6.11e-10    8.42e-10\n",
      "Job_Dirección y Liderazgo Education Level_master's        9694.5642   2587.516      3.747      0.000    4619.501    1.48e+04\n",
      "Job_Dirección y Liderazgo Gender_Female                   1.126e+04   3001.154      3.750      0.000    5368.954    1.71e+04\n",
      "Job_Dirección y Liderazgo Gender_Male                     9685.7008   3129.731      3.095      0.002    3547.155    1.58e+04\n",
      "Job_Finanzas y Contabilidad^2                              1.08e+04   3894.415      2.774      0.006    3165.314    1.84e+04\n",
      "Job_Finanzas y Contabilidad Job_Investigación            -1.637e-10   5.83e-10     -0.281      0.779   -1.31e-09    9.79e-10\n",
      "Job_Finanzas y Contabilidad Job_Marketing y Comunicación  2.444e-12   8.23e-12      0.297      0.767   -1.37e-11    1.86e-11\n",
      "Job_Finanzas y Contabilidad Job_Operaciones y Gestión     9.977e-16    3.3e-15      0.302      0.763   -5.48e-15    7.48e-15\n",
      "Job_Finanzas y Contabilidad Job_Producto y Diseño        -5.788e-15   3.26e-15     -1.773      0.076   -1.22e-14    6.15e-16\n",
      "Job_Finanzas y Contabilidad Job_Recursos Humanos         -1.944e-15    1.1e-15     -1.773      0.076   -4.09e-15    2.06e-16\n",
      "Job_Finanzas y Contabilidad Job_Soporte al Cliente         2.43e-15   1.37e-15      1.773      0.076   -2.58e-16    5.12e-15\n",
      "Job_Finanzas y Contabilidad Job_Tecnología e IT           8.024e-28   4.55e-28      1.762      0.078   -9.05e-29     1.7e-27\n",
      "Job_Finanzas y Contabilidad Job_Ventas y Biz Dev          1.427e-28   8.22e-29      1.735      0.083   -1.86e-29    3.04e-28\n",
      "Job_Finanzas y Contabilidad Education Level_PhD            652.6264   1218.758      0.535      0.592   -1737.804    3043.056\n",
      "Job_Finanzas y Contabilidad Education Level_bachelor's    9629.5778   3113.353      3.093      0.002    3523.155    1.57e+04\n",
      "Job_Finanzas y Contabilidad Education Level_high school   1758.2406    976.372      1.801      0.072    -156.781    3673.263\n",
      "Job_Finanzas y Contabilidad Education Level_master's      4970.7669   2309.095      2.153      0.031     441.787    9499.746\n",
      "Job_Finanzas y Contabilidad Gender_Female                 8785.9425   2942.482      2.986      0.003    3014.660    1.46e+04\n",
      "Job_Finanzas y Contabilidad Gender_Male                   6278.3048   2653.259      2.366      0.018    1074.294    1.15e+04\n",
      "Job_Investigación^2                                       8881.0107   2875.015      3.089      0.002    3242.057    1.45e+04\n",
      "Job_Investigación Job_Marketing y Comunicación                    0          0        nan        nan           0           0\n",
      "Job_Investigación Job_Operaciones y Gestión                       0          0        nan        nan           0           0\n",
      "Job_Investigación Job_Producto y Diseño                           0          0        nan        nan           0           0\n",
      "Job_Investigación Job_Recursos Humanos                            0          0        nan        nan           0           0\n",
      "Job_Investigación Job_Soporte al Cliente                          0          0        nan        nan           0           0\n",
      "Job_Investigación Job_Tecnología e IT                             0          0        nan        nan           0           0\n",
      "Job_Investigación Job_Ventas y Biz Dev                            0          0        nan        nan           0           0\n",
      "Job_Investigación Education Level_PhD                     8671.4279   2827.321      3.067      0.002    3126.018    1.42e+04\n",
      "Job_Investigación Education Level_bachelor's                      0          0        nan        nan           0           0\n",
      "Job_Investigación Education Level_high school                     0          0        nan        nan           0           0\n",
      "Job_Investigación Education Level_master's                1898.9636    859.442      2.210      0.027     213.285    3584.643\n",
      "Job_Investigación Gender_Female                           6248.1355   1827.792      3.418      0.001    2663.169    9833.102\n",
      "Job_Investigación Gender_Male                             6377.6662   2309.352      2.762      0.006    1848.183    1.09e+04\n",
      "Job_Marketing y Comunicación^2                            1.136e+04   6698.283      1.695      0.090   -1781.107    2.45e+04\n",
      "Job_Marketing y Comunicación Job_Operaciones y Gestión            0          0        nan        nan           0           0\n",
      "Job_Marketing y Comunicación Job_Producto y Diseño                0          0        nan        nan           0           0\n",
      "Job_Marketing y Comunicación Job_Recursos Humanos                 0          0        nan        nan           0           0\n",
      "Job_Marketing y Comunicación Job_Soporte al Cliente               0          0        nan        nan           0           0\n",
      "Job_Marketing y Comunicación Job_Tecnología e IT                  0          0        nan        nan           0           0\n",
      "Job_Marketing y Comunicación Job_Ventas y Biz Dev                 0          0        nan        nan           0           0\n",
      "Job_Marketing y Comunicación Education Level_PhD          -599.5799   3344.235     -0.179      0.858   -7158.846    5959.687\n",
      "Job_Marketing y Comunicación Education Level_bachelor's   1.077e+04   4399.627      2.448      0.014    2139.020    1.94e+04\n",
      "Job_Marketing y Comunicación Education Level_high school          0          0        nan        nan           0           0\n",
      "Job_Marketing y Comunicación Education Level_master's     6289.7973   4276.856      1.471      0.142   -2098.680    1.47e+04\n",
      "Job_Marketing y Comunicación Gender_Female                1.002e+04   5390.129      1.860      0.063    -547.323    2.06e+04\n",
      "Job_Marketing y Comunicación Gender_Male                  4952.1752   3878.849      1.277      0.202   -2655.665    1.26e+04\n",
      "Job_Operaciones y Gestión^2                               3066.6602   4476.057      0.685      0.493   -5712.523    1.18e+04\n",
      "Job_Operaciones y Gestión Job_Producto y Diseño                   0          0        nan        nan           0           0\n",
      "Job_Operaciones y Gestión Job_Recursos Humanos                    0          0        nan        nan           0           0\n",
      "Job_Operaciones y Gestión Job_Soporte al Cliente                  0          0        nan        nan           0           0\n",
      "Job_Operaciones y Gestión Job_Tecnología e IT                     0          0        nan        nan           0           0\n",
      "Job_Operaciones y Gestión Job_Ventas y Biz Dev                    0          0        nan        nan           0           0\n",
      "Job_Operaciones y Gestión Education Level_PhD             -239.2833   1073.293     -0.223      0.824   -2344.403    1865.836\n",
      "Job_Operaciones y Gestión Education Level_bachelor's      2761.4115   3969.300      0.696      0.487   -5023.835    1.05e+04\n",
      "Job_Operaciones y Gestión Education Level_high school             0          0        nan        nan           0           0\n",
      "Job_Operaciones y Gestión Education Level_master's        1478.9024   2084.878      0.709      0.478   -2610.304    5568.109\n",
      "Job_Operaciones y Gestión Gender_Female                   2871.6016   2551.479      1.125      0.261   -2132.781    7875.984\n",
      "Job_Operaciones y Gestión Gender_Male                     1825.5150   3737.547      0.488      0.625   -5505.180    9156.210\n",
      "Job_Producto y Diseño^2                                   1834.3379   3006.903      0.610      0.542   -4063.298    7731.974\n",
      "Job_Producto y Diseño Job_Recursos Humanos                        0          0        nan        nan           0           0\n",
      "Job_Producto y Diseño Job_Soporte al Cliente                      0          0        nan        nan           0           0\n",
      "Job_Producto y Diseño Job_Tecnología e IT                         0          0        nan        nan           0           0\n",
      "Job_Producto y Diseño Job_Ventas y Biz Dev                        0          0        nan        nan           0           0\n",
      "Job_Producto y Diseño Education Level_PhD                 1246.3661   3126.718      0.399      0.690   -4886.269    7379.002\n",
      "Job_Producto y Diseño Education Level_bachelor's          1129.4417   2285.805      0.494      0.621   -3353.856    5612.740\n",
      "Job_Producto y Diseño Education Level_high school                 0          0        nan        nan           0           0\n",
      "Job_Producto y Diseño Education Level_master's             805.1089   1478.604      0.545      0.586   -2094.973    3705.191\n",
      "Job_Producto y Diseño Gender_Female                       1499.9756   2232.665      0.672      0.502   -2879.097    5879.048\n",
      "Job_Producto y Diseño Gender_Male                         1098.6470   2208.602      0.497      0.619   -3233.229    5430.523\n",
      "Job_Recursos Humanos^2                                    5396.6620   5314.496      1.015      0.310   -5027.006    1.58e+04\n",
      "Job_Recursos Humanos Job_Soporte al Cliente                       0          0        nan        nan           0           0\n",
      "Job_Recursos Humanos Job_Tecnología e IT                          0          0        nan        nan           0           0\n",
      "Job_Recursos Humanos Job_Ventas y Biz Dev                         0          0        nan        nan           0           0\n",
      "Job_Recursos Humanos Education Level_PhD                  -824.9374   2997.286     -0.275      0.783   -6703.710    5053.835\n",
      "Job_Recursos Humanos Education Level_bachelor's           3994.0827   3055.179      1.307      0.191   -1998.240    9986.405\n",
      "Job_Recursos Humanos Education Level_high school          2280.1209   1712.925      1.331      0.183   -1079.550    5639.792\n",
      "Job_Recursos Humanos Education Level_master's             4186.0548   3646.399      1.148      0.251   -2965.866    1.13e+04\n",
      "Job_Recursos Humanos Gender_Female                        5408.7228   4408.741      1.227      0.220   -3238.428    1.41e+04\n",
      "Job_Recursos Humanos Gender_Male                          1498.7008   3021.904      0.496      0.620   -4428.358    7425.759\n",
      "Job_Soporte al Cliente^2                                   469.9506   6292.724      0.075      0.940   -1.19e+04    1.28e+04\n",
      "Job_Soporte al Cliente Job_Tecnología e IT                        0          0        nan        nan           0           0\n",
      "Job_Soporte al Cliente Job_Ventas y Biz Dev                       0          0        nan        nan           0           0\n",
      "Job_Soporte al Cliente Education Level_PhD                        0          0        nan        nan           0           0\n",
      "Job_Soporte al Cliente Education Level_bachelor's          731.0067   5222.792      0.140      0.889   -9512.797     1.1e+04\n",
      "Job_Soporte al Cliente Education Level_high school        -220.1546   3571.337     -0.062      0.951   -7224.852    6784.542\n",
      "Job_Soporte al Cliente Education Level_master's                   0          0        nan        nan           0           0\n",
      "Job_Soporte al Cliente Gender_Female                       694.3275   5108.520      0.136      0.892   -9325.348    1.07e+04\n",
      "Job_Soporte al Cliente Gender_Male                        -168.3114   3721.727     -0.045      0.964   -7467.978    7131.355\n",
      "Job_Tecnología e IT^2                                     1.387e+04    1.4e+04      0.993      0.321   -1.35e+04    4.13e+04\n",
      "Job_Tecnología e IT Job_Ventas y Biz Dev                          0          0        nan        nan           0           0\n",
      "Job_Tecnología e IT Education Level_PhD                  -1113.9274   6587.712     -0.169      0.866    -1.4e+04    1.18e+04\n",
      "Job_Tecnología e IT Education Level_bachelor's            1.041e+04   7461.806      1.395      0.163   -4224.704     2.5e+04\n",
      "Job_Tecnología e IT Education Level_high school            812.4099   2122.184      0.383      0.702   -3349.968    4974.788\n",
      "Job_Tecnología e IT Education Level_master's              8158.8351   7242.485      1.127      0.260   -6046.324    2.24e+04\n",
      "Job_Tecnología e IT Gender_Female                         3794.4333   1.52e+04      0.250      0.803    -2.6e+04    3.35e+04\n",
      "Job_Tecnología e IT Gender_Male                          -1971.2549   1.75e+04     -0.113      0.910   -3.62e+04    3.23e+04\n",
      "Job_Ventas y Biz Dev^2                                    3124.3207   5268.494      0.593      0.553   -7209.122    1.35e+04\n",
      "Job_Ventas y Biz Dev Education Level_PhD                  -814.4082   1701.925     -0.479      0.632   -4152.504    2523.688\n",
      "Job_Ventas y Biz Dev Education Level_bachelor's           3532.5080   4502.544      0.785      0.433   -5298.625    1.24e+04\n",
      "Job_Ventas y Biz Dev Education Level_high school          1055.7364   2692.126      0.392      0.695   -4224.506    6335.978\n",
      "Job_Ventas y Biz Dev Education Level_master's              156.9194   1831.862      0.086      0.932   -3436.032    3749.870\n",
      "Job_Ventas y Biz Dev Gender_Female                        3017.7966   3645.888      0.828      0.408   -4133.122    1.02e+04\n",
      "Job_Ventas y Biz Dev Gender_Male                          1397.1163   3846.623      0.363      0.716   -6147.516    8941.748\n",
      "Education Level_PhD^2                                    -2478.4772   3589.265     -0.691      0.490   -9518.338    4561.384\n",
      "Education Level_PhD Education Level_bachelor's                    0          0        nan        nan           0           0\n",
      "Education Level_PhD Education Level_high school                   0          0        nan        nan           0           0\n",
      "Education Level_PhD Education Level_master's                      0          0        nan        nan           0           0\n",
      "Education Level_PhD Gender_Female                        -2397.3948   2136.279     -1.122      0.262   -6587.419    1792.630\n",
      "Education Level_PhD Gender_Male                          -1121.3098   2803.294     -0.400      0.689   -6619.595    4376.975\n",
      "Education Level_bachelor's^2                              3662.9800   4140.731      0.885      0.376   -4458.507    1.18e+04\n",
      "Education Level_bachelor's Education Level_high school            0          0        nan        nan           0           0\n",
      "Education Level_bachelor's Education Level_master's               0          0        nan        nan           0           0\n",
      "Education Level_bachelor's Gender_Female                    18.3179   2338.729      0.008      0.994   -4568.784    4605.420\n",
      "Education Level_bachelor's Gender_Male                    4192.6678   2815.917      1.489      0.137   -1330.374    9715.709\n",
      "Education Level_high school^2                             3654.9545   4272.395      0.855      0.392   -4724.773     1.2e+04\n",
      "Education Level_high school Education Level_master's              0          0        nan        nan           0           0\n",
      "Education Level_high school Gender_Female                -3939.5002   7261.184     -0.543      0.588   -1.82e+04    1.03e+04\n",
      "Education Level_high school Gender_Male                  -4110.8242   7490.219     -0.549      0.583   -1.88e+04    1.06e+04\n",
      "Education Level_master's^2                               -3689.2641   5672.770     -0.650      0.516   -1.48e+04    7437.111\n",
      "Education Level_master's Gender_Female                   -9389.0100    1.6e+04     -0.587      0.557   -4.08e+04     2.2e+04\n",
      "Education Level_master's Gender_Male                     -6437.1098    1.5e+04     -0.429      0.668   -3.59e+04     2.3e+04\n",
      "Gender_Female^2                                          -9678.5045   1.67e+04     -0.581      0.561   -4.23e+04     2.3e+04\n",
      "Gender_Female Gender_Male                                         0          0        nan        nan           0           0\n",
      "Gender_Male^2                                            -3029.1488   1.64e+04     -0.185      0.854   -3.52e+04    2.92e+04\n",
      "==============================================================================\n",
      "Omnibus:                      175.696   Durbin-Watson:                   1.469\n",
      "Prob(Omnibus):                  0.000   Jarque-Bera (JB):              648.713\n",
      "Skew:                           0.436   Prob(JB):                    1.36e-141\n",
      "Kurtosis:                       5.820   Cond. No.                     4.83e+16\n",
      "==============================================================================\n",
      "\n",
      "Notes:\n",
      "[1] Standard Errors assume that the covariance matrix of the errors is correctly specified.\n",
      "[2] The smallest eigenvalue is 8.62e-30. This might indicate that there are\n",
      "strong multicollinearity problems or that the design matrix is singular.\n"
     ]
    }
   ],
   "source": [
    "numerical_cols = ['Age', 'Years of Experience']\n",
    "dummy_cols = [col for col in df.columns if col.startswith(('Job_', 'Education Level_', 'Gender_'))]\n",
    "all_input_cols = numerical_cols + dummy_cols\n",
    "\n",
    "\n",
    "poly = PolynomialFeatures(degree=2, include_bias=False)\n",
    "\n",
    "X_poly_array = poly.fit_transform(df[all_input_cols])\n",
    "column_names = poly.get_feature_names_out(all_input_cols)\n",
    "X_final_ols = pd.DataFrame(X_poly_array, columns=column_names, index=df.index)\n",
    "\n",
    "\n",
    "scaler = StandardScaler()\n",
    "X_scaled_array = scaler.fit_transform(X_final_ols)\n",
    "X_scaled_df = pd.DataFrame(X_scaled_array, columns=column_names, index=df.index)\n",
    "\n",
    "X_scaled_with_intercept = sm.add_constant(X_scaled_df.astype(float), prepend=True)\n",
    "model_ols_final = sm.OLS(y, X_scaled_with_intercept).fit()\n",
    "\n",
    "\n",
    "print(\"--- RESUMEN DEL MODELO OLS ESTANDARIZADO (CON P-VALORES CONFIABLES) ---\")\n",
    "print(model_ols_final.summary())"
   ]
  },
  {
   "cell_type": "markdown",
   "id": "b607d259",
   "metadata": {},
   "source": [
    "Encontramos cosas muy interesantes a la hora de hacer nuestro análisis de significancia. Encontramos que linealmente las únicas industrias que tienen un impacto significativo en nuestro modelo son las industrias de investigación, finanzas y contabilidad, dirección y liderazgo y análisis de datos. Todas estas industrias tienen un impacto grande y positivo en el salario. La parte interesante es cuando observamos los años de experiencia, ya que en su variable lineal no encuentras un valor de significancia, pero cuando observas su versión cuadrática, te das cuenta de que sí tiene significancia y un beta negativo. Esto nos muestra que, al igual que una parábola cuadrática negativa, lo más probable es que a los inicios de tu vida profesional tus años trabajando tengan un mayor impacto en comparación a cuando ya llevas más tiempo. Por ejemplo, en la vida real, el salto salarial entre el año 1 y el año 5 de experiencia es mucho mayor que entre el año 20 y el año 25. También vimos que la combinación entre años de experiencia y ciertas industrias también tiene gran significancia e impacto en el modelo."
   ]
  },
  {
   "cell_type": "markdown",
   "id": "425030d5",
   "metadata": {},
   "source": [
    "## 7. Ajuste de modelos con comparaciones de R2. (Visualizaciones)"
   ]
  },
  {
   "cell_type": "markdown",
   "id": "237676c3",
   "metadata": {},
   "source": [
    "### Gráfica de residuos del modelo final"
   ]
  },
  {
   "cell_type": "code",
   "execution_count": 172,
   "id": "078142b7",
   "metadata": {},
   "outputs": [
    {
     "data": {
      "image/png": "[encoded data removed]",
      "text/plain": [
       "<Figure size 800x500 with 1 Axes>"
      ]
     },
     "metadata": {},
     "output_type": "display_data"
    }
   ],
   "source": [
    "poly_degree = 2\n",
    "k_folds = 5\n",
    "\n",
    "poly = PolynomialFeatures(degree=poly_degree, include_bias=False)\n",
    "scaler = StandardScaler()\n",
    "kf = KFold(n_splits=k_folds, shuffle=True, random_state=137)\n",
    "\n",
    "MSE_scores = []\n",
    "mape_scores = []\n",
    "R2_scores = [] \n",
    "\n",
    "\n",
    "for fold, (train_index, test_index) in enumerate(kf.split(X)):\n",
    "    X_train, X_test = X[train_index], X[test_index]\n",
    "    y_train, y_test = y[train_index], y[test_index]\n",
    "    \n",
    "    X_poly_train = poly.fit_transform(X_train)\n",
    "    X_poly_test = poly.transform(X_test)\n",
    "    \n",
    "    X_scaled_train = scaler.fit_transform(X_poly_train)\n",
    "    X_scaled_test = scaler.transform(X_poly_test)\n",
    "    \n",
    "    X_e_train = sm.add_constant(X_scaled_train, has_constant='add')\n",
    "    model = sm.OLS(y_train, X_e_train).fit()\n",
    "    \n",
    "    X_e_test = sm.add_constant(X_scaled_test, has_constant='add')\n",
    "    y_pred = model.predict(X_e_test)\n",
    "\n",
    "    R2_test_score = r2_score(y_test, y_pred)\n",
    "    R2_scores.append(R2_test_score)\n",
    "    \n",
    "\n",
    "modelo_final = Ridge(alpha=0.01, fit_intercept=True)\n",
    "modelo_final.fit(X_e_train, y_train)\n",
    "y_pred_final = modelo_final.predict(X_e_test)\n",
    "\n",
    "# Cálculo de residuos\n",
    "residuos = y_test - y_pred_final\n",
    "plt.figure(figsize=(8,5))\n",
    "plt.scatter(y_pred, residuos, alpha=0.7)\n",
    "plt.axhline(y=0, color='red', linestyle='--')\n",
    "plt.xlabel(\"Valores Predichos\")\n",
    "plt.ylabel(\"Residuos\")\n",
    "plt.title(\"Residuos - Ridge (Polinomial grado 2, λ=0.01)\")\n",
    "plt.show()"
   ]
  },
  {
   "cell_type": "markdown",
   "id": "205812da",
   "metadata": {},
   "source": [
    "La gráfica de residuos muestra que el modelo está bien especificadoy que no hay tanto sesgo, ya que los puntos se distribuyen de forma aleatoria alrededor de la línea de cero. Sin embargo, la dispersión de los errores forma un claro patrón donde la variabilidad de los residuos es mucho mayor a medida que aumentan los valores salariales predichos. Esto significa que el modelo es más confiable para predecir salarios bajos o medios y es menos preciso al estimar salarios altos."
   ]
  },
  {
   "cell_type": "markdown",
   "id": "80315ed3",
   "metadata": {},
   "source": [
    "### Histograma de residuos"
   ]
  },
  {
   "cell_type": "code",
   "execution_count": 173,
   "id": "aedb9c71",
   "metadata": {},
   "outputs": [
    {
     "data": {
      "image/png": "[encoded data removed]",
      "text/plain": [
       "<Figure size 800x500 with 1 Axes>"
      ]
     },
     "metadata": {},
     "output_type": "display_data"
    }
   ],
   "source": [
    "residuos = y_test - y_pred_final\n",
    "plt.figure(figsize=(8,5))\n",
    "plt.hist(residuos, bins=20, edgecolor=\"black\", alpha=0.7)\n",
    "plt.axvline(x=0, color=\"red\", linestyle=\"--\", label=\"Media = 0\")\n",
    "plt.axvline(residuos.mean(), color=\"blue\", linestyle=\"-.\", label=f\"Media residuos = {residuos.mean():.4f}\")\n",
    "plt.xlabel(\"Residuos\")\n",
    "plt.ylabel(\"Frecuencia\")\n",
    "plt.title(\"Histograma de Residuos - Ridge (λ = 0.01, grado 2)\")\n",
    "plt.legend()\n",
    "plt.show()"
   ]
  },
  {
   "cell_type": "markdown",
   "id": "a76a2331",
   "metadata": {},
   "source": [
    "La media de los residuos es el error promedio de todas las predicciones, por lo que un valor muy cercano a cero indica que, a lo largo de todo el conjunto de datos, el modelo compensa sus errores. Los residuos muestran una distribución aproximadamente normal y simétrica centrada en cero, lo que valida el ajuste general del modelo. Como se puede ver en la gráfica, la media de los residuos está muy cercana a la media 0, lo que significa que sí hay un buen ajuste."
   ]
  },
  {
   "cell_type": "markdown",
   "id": "1d9cf956",
   "metadata": {},
   "source": [
    "### Comparación de R2"
   ]
  },
  {
   "cell_type": "code",
   "execution_count": 174,
   "id": "ef55ef49",
   "metadata": {},
   "outputs": [
    {
     "data": {
      "image/png": "[encoded data removed]",
      "text/plain": [
       "<Figure size 1000x600 with 1 Axes>"
      ]
     },
     "metadata": {},
     "output_type": "display_data"
    }
   ],
   "source": [
    "valores_altos_test = [\n",
    "    # Grado 1 \n",
    "    {'Grado': 1, 'Model': 'Ridge', 'R2_Test': 0.803111, 'Lambda': 0.0001},\n",
    "    {'Grado': 1, 'Model': 'Lasso', 'R2_Test':  0.831234, 'Lambda': 1},\n",
    "    {'Grado': 1, 'Model': 'ElasticNet', 'R2_Test': 0.803139, 'Lambda': 0.01},\n",
    "    \n",
    "    # Grade 2 (R2 max at lambda=0.0001/0.01)\n",
    "    {'Grado': 2, 'Model': 'Ridge', 'R2_Test': 0.87037, 'Lambda': 0.01},\n",
    "    {'Grado': 2, 'Model': 'Lasso', 'R2_Test': 0.870290, 'Lambda': 0.01},\n",
    "    {'Grado': 2, 'Model': 'ElasticNet', 'R2_Test': 0.870245, 'Lambda': 0.0001},\n",
    "    \n",
    "    # Grade 3 (R2 max at lambda=10/100, ElasticNet usa el mejor disponible)\n",
    "    {'Grado': 3, 'Model': 'Ridge', 'R2_Test': 0.83426, 'Lambda': 1},\n",
    "    {'Grado': 3, 'Model': 'Lasso', 'R2_Test': 0.837987, 'Lambda': 10},\n",
    "    {'Grado': 3, 'Model': 'ElasticNet', 'R2_Test': 0.844243, 'Lambda': 0.1},\n",
    "]\n",
    "df_mejor_test = pd.DataFrame(valores_altos_test)\n",
    "\n",
    "modelos = ['Ridge', 'Lasso', 'ElasticNet']\n",
    "grados= df_mejor_test['Grado'].unique()\n",
    "df_test = df_mejor_test.pivot(index='Grado', columns='Model', values='R2_Test')\n",
    "fig, ax = plt.subplots(figsize=(10, 6))\n",
    "width = 0.25 # Ancho de las barras\n",
    "x = np.arange(len(grados)) # Posición de los Grados en el eje X\n",
    "\n",
    "# barras de cada modelo\n",
    "rects_ridge = ax.bar(x - width, df_test['Ridge'], width, label='Ridge', color='steelblue')\n",
    "rects_lasso = ax.bar(x, df_test['Lasso'], width, label='Lasso', color='darkorange')\n",
    "rects_elastic = ax.bar(x + width, df_test['ElasticNet'], width, label='ElasticNet', color='green')\n",
    "\n",
    "# formato de gráfica\n",
    "ax.set_title('Comparación del mejor R2 de Prueba por modelo', fontsize=14)\n",
    "ax.set_ylabel('R2 Score (Test)', fontsize=12)\n",
    "ax.set_xlabel('Grado Polinomial', fontsize=12)\n",
    "ax.set_xticks(x)\n",
    "ax.set_xticklabels([f'Grado {g}' for g in grados])\n",
    "ax.set_ylim(0.7, 0.9) # Recortar el eje Y para destacar las diferencias\n",
    "ax.legend(title='Modelo de Penalización')\n",
    "ax.grid(axis='y', linestyle='--', alpha=0.7)\n"
   ]
  },
  {
   "cell_type": "code",
   "execution_count": 175,
   "id": "fe88f415",
   "metadata": {},
   "outputs": [
    {
     "data": {
      "image/png": "[encoded data removed]",
      "text/plain": [
       "<Figure size 1000x600 with 1 Axes>"
      ]
     },
     "metadata": {},
     "output_type": "display_data"
    }
   ],
   "source": [
    "valores_altos_train = [\n",
    "    # Grado 1 \n",
    "    {'Grado': 1, 'Model': 'Ridge', 'R2_Train': 0.787891, 'Lambda': 0.0001},\n",
    "    {'Grado': 1, 'Model': 'Lasso', 'R2_Train': 0.89518, 'Lambda': 1},\n",
    "    {'Grado': 1, 'Model': 'ElasticNet', 'R2_Train': 0.7877, 'Lambda': 0.01},\n",
    "    \n",
    "    # Grade 2 \n",
    "    {'Grado': 2, 'Model': 'Ridge', 'R2_Train': 0.872599, 'Lambda': 0.01},\n",
    "    {'Grado': 2, 'Model': 'Lasso', 'R2_Train': 0.87244, 'Lambda': 0.01},\n",
    "    {'Grado': 2, 'Model': 'ElasticNet', 'R2_Train': 0.8724, 'Lambda': 0.0001},\n",
    "    \n",
    "    # Grade 3 \n",
    "    {'Grado': 3, 'Model': 'Ridge', 'R2_Train': 0.89491, 'Lambda': 1},\n",
    "    {'Grado': 3, 'Model': 'Lasso', 'R2_Train': 0.89333, 'Lambda': 10},\n",
    "    {'Grado': 3, 'Model': 'ElasticNet', 'R2_Train': 0.86631, 'Lambda': 0.1}, \n",
    "]\n",
    "\n",
    "df_mejor_train = pd.DataFrame(valores_altos_train)\n",
    "modelos = ['Ridge', 'Lasso', 'ElasticNet']\n",
    "grados = df_mejor_train['Grado'].unique()\n",
    "df_train = df_mejor_train.pivot(index='Grado', columns='Model', values='R2_Train')\n",
    "fig, ax = plt.subplots(figsize=(10, 6))\n",
    "width = 0.25 \n",
    "x = np.arange(len(grados)) \n",
    "\n",
    "# barras de cada modelo\n",
    "rects_ridge = ax.bar(x - width, df_train['Ridge'], width, label='Ridge', color='blue')\n",
    "rects_lasso = ax.bar(x, df_train['Lasso'], width, label='Lasso', color='red')\n",
    "rects_elastic = ax.bar(x + width, df_train['ElasticNet'], width, label='ElasticNet', color='orange')\n",
    "\n",
    "# Configuración\n",
    "ax.set_title('Comparación del R2 de Entrenamiento Óptimo por Grado Polinomial', fontsize=14)\n",
    "ax.set_ylabel('R2 Score Óptimo (Entrenamiento)', fontsize=12)\n",
    "ax.set_xlabel('Grado Polinomial', fontsize=12)\n",
    "ax.set_xticks(x)\n",
    "ax.set_xticklabels([f'Grado {g}' for g in grados])\n",
    "ax.set_ylim(0.7, 1.0) # Ajustar el eje Y\n",
    "ax.legend(title='Modelo de Penalización')\n",
    "ax.grid(axis='y', linestyle='--', alpha=0.7)\n"
   ]
  },
  {
   "cell_type": "markdown",
   "id": "19b3744f",
   "metadata": {},
   "source": [
    "Como se puede ver en la primer gráfica de barras, el grado dos es el que tiene un coeficiente de determinación más alto para los tres tipos de regularizaciones. Por el otro lado, en el train, el lasso del grado 1 salta mucho, pero si lo comparas con su test, es mucho más alto, por lo que podría haber indicios de overfitting. El modelo tres es el que, en el train, tiene un mejor desempeño pero, de igual manera, al comparar su test, también están muy altos. Estas gráficas confirman la elección de nuestro modelo, ya que para el grado 2 en train y test, los números son muy parecidos, lo que indica un modelo más estable y con mayor capacidad para generalizar con datos nuevos."
   ]
  },
  {
   "cell_type": "markdown",
   "id": "537162fd",
   "metadata": {},
   "source": [
    "## 8. Conclusión\n",
    "El proyecto permitió comprobar que la calidad del análisis exploratorio de datos es tan importante como el modelo en sí, pues limpiar, transformar y agrupar variables fue clave para obtener resultados más estables. A pesar de que el gran repertorio de categorías presentó varios desafíos iniciales que resolvimos con agrupaciones, observamos que factores como la educación, la experiencia y el tipo de puesto tienen un impacto relevante en los salarios. La comparación entre modelos mostró que la regresión lineal ofrece una base sólida, mientras que la polinomial, aunque más flexible, tiende a sobreajustar si no se controla adecuadamente. En este sentido, las técnicas de regularización demostraron su utilidad para equilibrar el ajuste y la generalización, y finalmente el modelo de Ridge fue el seleccionado por ofrecer el mejor compromiso entre generalización, capacidad predictiva e interpretación de los resultados. Más allá de las métricas como MAPE o MSE, la lección principal fue comprender que la predicción robusta y las interpretaciones deben tener prioridad sobre la búsqueda exclusiva de significancia estadística. Finalmente, este trabajo deja como reflexión que el verdadero valor de la regresión no está en alcanzar el modelo perfecto, sino en interpretar sus resultados con criterio y vincularlos con escenarios que se asemeje a lo que vivimos."
   ]
  },
  {
   "cell_type": "markdown",
   "id": "a5bcbe57",
   "metadata": {},
   "source": [
    "## 8. Referencias"
   ]
  },
  {
   "cell_type": "markdown",
   "id": "b10cead8",
   "metadata": {},
   "source": [
    "- Salary.Data. (2025, September 5). https://www.kaggle.com/datasets/ahmadrazakashif/salary-data\n",
    "- E. Lewinson and E. Lewinson, “A comprehensive guide to interaction terms in linear regression,” NVIDIA Technical Blog, Jun. 09, 2023.https://developer.nvidia.com/blog/a-comprehensive-guide-to-interaction-terms-in-linear-regression/\n",
    "- Murel, J., PhD, & Kavlakoglu, E. (2025, 18 febrero). Regression de ridge. ¿Qué es regression de ridge? https://www.ibm.com/mx-es/think/topics/ridge-regression#:~:text=La%20regularizaci%C3%B3n%20es%20un%20m%C3%A9todo,en%20el%20an%C3%A1lisis%20de%20regresi%C3%B3n."
   ]
  },
  {
   "cell_type": "markdown",
   "id": "8f1567fe",
   "metadata": {},
   "source": []
  }
 ],
 "metadata": {
  "kernelspec": {
   "display_name": "base",
   "language": "python",
   "name": "python3"
  },
  "language_info": {
   "codemirror_mode": {
    "name": "ipython",
    "version": 3
   },
   "file_extension": ".py",
   "mimetype": "text/x-python",
   "name": "python",
   "nbconvert_exporter": "python",
   "pygments_lexer": "ipython3",
   "version": "3.12.7"
  }
 },
 "nbformat": 4,
 "nbformat_minor": 5
}
